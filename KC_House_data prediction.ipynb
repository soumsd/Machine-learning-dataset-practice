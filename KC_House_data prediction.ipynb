{
 "cells": [
  {
   "cell_type": "code",
   "execution_count": 1,
   "metadata": {},
   "outputs": [],
   "source": [
    "import numpy as np \n",
    "import pandas as pd\n",
    "import matplotlib.pyplot as plt\n",
    "from sklearn.linear_model import LinearRegression\n",
    "from sklearn.neighbors import KNeighborsRegressor\n",
    "from sklearn.tree import DecisionTreeRegressor\n",
    "from sklearn.ensemble import RandomForestRegressor\n",
    "from sklearn.metrics import mean_squared_error as mse\n",
    "from sklearn.metrics import r2_score\n",
    "from sklearn.model_selection import train_test_split\n",
    "from math import sqrt\n",
    "from sklearn.linear_model import (LinearRegression, Ridge, Lasso, RandomizedLasso)\n",
    "from sklearn.preprocessing import PolynomialFeatures "
   ]
  },
  {
   "cell_type": "code",
   "execution_count": 2,
   "metadata": {
    "scrolled": true
   },
   "outputs": [
    {
     "data": {
      "text/html": [
       "<div>\n",
       "<style scoped>\n",
       "    .dataframe tbody tr th:only-of-type {\n",
       "        vertical-align: middle;\n",
       "    }\n",
       "\n",
       "    .dataframe tbody tr th {\n",
       "        vertical-align: top;\n",
       "    }\n",
       "\n",
       "    .dataframe thead th {\n",
       "        text-align: right;\n",
       "    }\n",
       "</style>\n",
       "<table border=\"1\" class=\"dataframe\">\n",
       "  <thead>\n",
       "    <tr style=\"text-align: right;\">\n",
       "      <th></th>\n",
       "      <th>id</th>\n",
       "      <th>date</th>\n",
       "      <th>price</th>\n",
       "      <th>bedrooms</th>\n",
       "      <th>bathrooms</th>\n",
       "      <th>sqft_living</th>\n",
       "      <th>sqft_lot</th>\n",
       "      <th>floors</th>\n",
       "      <th>waterfront</th>\n",
       "      <th>view</th>\n",
       "      <th>...</th>\n",
       "      <th>grade</th>\n",
       "      <th>sqft_above</th>\n",
       "      <th>sqft_basement</th>\n",
       "      <th>yr_built</th>\n",
       "      <th>yr_renovated</th>\n",
       "      <th>zipcode</th>\n",
       "      <th>lat</th>\n",
       "      <th>long</th>\n",
       "      <th>sqft_living15</th>\n",
       "      <th>sqft_lot15</th>\n",
       "    </tr>\n",
       "  </thead>\n",
       "  <tbody>\n",
       "    <tr>\n",
       "      <th>0</th>\n",
       "      <td>7129300520</td>\n",
       "      <td>20141013T000000</td>\n",
       "      <td>221900.0</td>\n",
       "      <td>3</td>\n",
       "      <td>1.0</td>\n",
       "      <td>1180</td>\n",
       "      <td>5650</td>\n",
       "      <td>1.0</td>\n",
       "      <td>0</td>\n",
       "      <td>0</td>\n",
       "      <td>...</td>\n",
       "      <td>7</td>\n",
       "      <td>1180</td>\n",
       "      <td>0</td>\n",
       "      <td>1955</td>\n",
       "      <td>0</td>\n",
       "      <td>98178</td>\n",
       "      <td>47.5112</td>\n",
       "      <td>-122.257</td>\n",
       "      <td>1340</td>\n",
       "      <td>5650</td>\n",
       "    </tr>\n",
       "  </tbody>\n",
       "</table>\n",
       "<p>1 rows × 21 columns</p>\n",
       "</div>"
      ],
      "text/plain": [
       "           id             date     price  bedrooms  bathrooms  sqft_living  \\\n",
       "0  7129300520  20141013T000000  221900.0         3        1.0         1180   \n",
       "\n",
       "   sqft_lot  floors  waterfront  view  ...  grade  sqft_above  sqft_basement  \\\n",
       "0      5650     1.0           0     0  ...      7        1180              0   \n",
       "\n",
       "   yr_built  yr_renovated  zipcode      lat     long  sqft_living15  \\\n",
       "0      1955             0    98178  47.5112 -122.257           1340   \n",
       "\n",
       "   sqft_lot15  \n",
       "0        5650  \n",
       "\n",
       "[1 rows x 21 columns]"
      ]
     },
     "execution_count": 2,
     "metadata": {},
     "output_type": "execute_result"
    }
   ],
   "source": [
    "df = pd.read_csv(r\"C:\\Users\\user\\Downloads\\housesalesprediction\\kc_house_data.csv\")\n",
    "\n",
    "df.head(1)"
   ]
  },
  {
   "cell_type": "code",
   "execution_count": null,
   "metadata": {},
   "outputs": [],
   "source": []
  },
  {
   "cell_type": "code",
   "execution_count": 3,
   "metadata": {},
   "outputs": [],
   "source": [
    "#Multiple linear regression\n",
    "\n",
    "#Predicting_model - 1"
   ]
  },
  {
   "cell_type": "code",
   "execution_count": 4,
   "metadata": {},
   "outputs": [
    {
     "data": {
      "text/plain": [
       "Index(['price', 'sqft_living', 'grade', 'sqft_above', 'sqft_living15',\n",
       "       'bathrooms', 'view', 'sqft_basement', 'bedrooms', 'lat', 'waterfront',\n",
       "       'floors', 'yr_renovated', 'sqft_lot', 'sqft_lot15', 'yr_built',\n",
       "       'condition', 'long', 'id', 'zipcode'],\n",
       "      dtype='object')"
      ]
     },
     "execution_count": 4,
     "metadata": {},
     "output_type": "execute_result"
    }
   ],
   "source": [
    "df.corr()['price'].sort_values(ascending = False).index"
   ]
  },
  {
   "cell_type": "code",
   "execution_count": 5,
   "metadata": {},
   "outputs": [
    {
     "name": "stdout",
     "output_type": "stream",
     "text": [
      "intercept : [-31812757.75881776]\n",
      "coefficient : [[-4.38609138e+14  7.60401250e+04  4.38609138e+14  3.28125000e+00\n",
      "  -1.31472511e+04  9.75398450e+04  4.38609138e+14 -3.18548015e+04\n",
      "   6.61361056e+05]]\n",
      "score : 0.6495977819141086\n",
      "predicted_value : [[465128.26533469]\n",
      " [544625.33885248]\n",
      " [375952.65750998]\n",
      " ...\n",
      " [579779.76609354]\n",
      " [516862.66471698]\n",
      " [365898.96049396]]\n",
      "MSE: 46202671577.38566\n",
      "RMSE : 214948.06716364223\n",
      "R2_score : 0.6495977819141086\n"
     ]
    },
    {
     "data": {
      "image/png": "[encoded data removed]",
      "text/plain": [
       "<Figure size 432x288 with 1 Axes>"
      ]
     },
     "metadata": {
      "needs_background": "light"
     },
     "output_type": "display_data"
    }
   ],
   "source": [
    "#selected features based on correlation of different data with prices for which corr value is above 30%\n",
    "\n",
    "features = [ 'sqft_living', 'grade', 'sqft_above', 'sqft_living15','bathrooms','view', 'sqft_basement', 'bedrooms', 'lat']\n",
    "\n",
    "x_train,x_test,y_train,y_test = train_test_split(df[features],df[['price']],test_size = 0.20,shuffle = True)\n",
    "\n",
    "ln_reg = LinearRegression()\n",
    "\n",
    "ln_reg.fit(x_train,y_train)\n",
    "\n",
    "print('intercept :',ln_reg.intercept_)\n",
    "\n",
    "print('coefficient :',ln_reg.coef_)\n",
    "\n",
    "print('score :',ln_reg.score(x_test,y_test))\n",
    "\n",
    "y_pred = ln_reg.predict(x_test)\n",
    "\n",
    "print('predicted_value :',y_pred)\n",
    "\n",
    "MSE = mse(y_test , y_pred)\n",
    "\n",
    "print('MSE:',MSE)\n",
    "\n",
    "print('RMSE :',sqrt(MSE))\n",
    "\n",
    "print('R2_score :',r2_score(y_test,y_pred))\n",
    "\n",
    "plt.scatter(x = x_test['sqft_living'] , y = y_test)\n",
    "\n",
    "plt.scatter(x = x_test['sqft_living'] , y = y_pred)\n",
    "\n",
    "plt.show()"
   ]
  },
  {
   "cell_type": "code",
   "execution_count": null,
   "metadata": {},
   "outputs": [],
   "source": []
  },
  {
   "cell_type": "code",
   "execution_count": 6,
   "metadata": {},
   "outputs": [],
   "source": [
    "#Multiple linear Regression\n",
    "\n",
    "#Predicting_model - 2"
   ]
  },
  {
   "cell_type": "code",
   "execution_count": 7,
   "metadata": {},
   "outputs": [
    {
     "name": "stdout",
     "output_type": "stream",
     "text": [
      "intercept : 61108032.55460237\n",
      "coefficient : [ 1.22320007e+05  1.85461006e+02  6.17938267e+04  8.12760405e+05\n",
      "  6.08038292e+05  1.91470958e+05  5.15105790e+01  4.50572435e-01\n",
      "  3.13981323e-01 -4.11931285e+02  2.81520864e+04 -4.12203538e+04\n",
      " -1.16394889e-06 -1.06176698e+03]\n",
      "score : 0.45792039820388875\n",
      "predicted_value : [616287.15904412 262368.42299189 237153.73925196 ... 776550.11350901\n",
      " 444252.9030326  812180.54941913]\n",
      "MSE : 65112209989.217255\n",
      "RMSE : 255170.9426819936\n",
      "R2_score : 0.45792039820388875\n"
     ]
    },
    {
     "data": {
      "image/png": "[encoded data removed]",
      "text/plain": [
       "<Figure size 432x288 with 1 Axes>"
      ]
     },
     "metadata": {
      "needs_background": "light"
     },
     "output_type": "display_data"
    }
   ],
   "source": [
    "#selected features based on correlation of different data with prices for which corr value is below 30%\n",
    "\n",
    "\n",
    "features = ['view', 'sqft_basement', 'bedrooms', 'lat','waterfront','floors', 'yr_renovated', 'sqft_lot', 'sqft_lot15', 'yr_built','condition', 'long', 'id', 'zipcode']\n",
    "\n",
    "x_train,x_test,y_train,y_test = train_test_split(df[features],df['price'],test_size = 0.20,shuffle = True)\n",
    "\n",
    "ln_reg = LinearRegression()\n",
    "\n",
    "ln_reg.fit(x_train,y_train)\n",
    "\n",
    "print('intercept :',ln_reg.intercept_)\n",
    "\n",
    "print('coefficient :',ln_reg.coef_)\n",
    "\n",
    "print('score :',ln_reg.score(x_test,y_test))\n",
    "\n",
    "y_pred = ln_reg.predict(x_test)\n",
    "\n",
    "print('predicted_value :',y_pred)\n",
    "\n",
    "MSE = mse(y_test,y_pred)\n",
    "\n",
    "print('MSE :',MSE)\n",
    "\n",
    "print('RMSE :',sqrt(MSE))\n",
    "\n",
    "print('R2_score :',r2_score(y_test,y_pred))\n",
    "\n",
    "plt.scatter(x = x_test['waterfront'] , y = y_test)\n",
    "\n",
    "plt.scatter(x = x_test['waterfront'] , y = y_pred)\n",
    "\n",
    "plt.show()\n",
    "      \n",
    "      "
   ]
  },
  {
   "cell_type": "code",
   "execution_count": null,
   "metadata": {},
   "outputs": [],
   "source": []
  },
  {
   "cell_type": "code",
   "execution_count": 8,
   "metadata": {},
   "outputs": [],
   "source": [
    "#Multiple linear Regression\n",
    "\n",
    "#predicting_model-3"
   ]
  },
  {
   "cell_type": "code",
   "execution_count": 9,
   "metadata": {},
   "outputs": [
    {
     "name": "stdout",
     "output_type": "stream",
     "text": [
      "intercept : 6162078.490612427\n",
      "coefficient : [ 1.15361014e+02  9.39442285e+04  7.45418278e+01  1.80900150e+01\n",
      "  4.07998398e+04  5.02884826e+04  4.08191882e+01 -3.71616738e+04\n",
      "  6.06390018e+05  6.17062197e+05  3.18581650e+03  2.00423515e+01\n",
      "  1.62535480e-01 -4.58098836e-01 -2.59426453e+03  2.63428657e+04\n",
      " -2.20144931e+05 -1.31792331e-06 -5.85841363e+02]\n",
      "score : 0.7220463522016294\n",
      "predicted_value : [928849.95206973 491567.24458654 670202.89773245 ... 602898.52944604\n",
      " 400887.2655282  230162.93282451]\n",
      "MSE : 34200851064.32548\n",
      "RMSE : 184934.72108916022\n",
      "R2_score : 0.7220463522016294\n"
     ]
    },
    {
     "data": {
      "image/png": "[encoded data removed]",
      "text/plain": [
       "<Figure size 432x288 with 1 Axes>"
      ]
     },
     "metadata": {
      "needs_background": "light"
     },
     "output_type": "display_data"
    }
   ],
   "source": [
    "#selected all features to find maximum score_value(Accurarcy)\n",
    "\n",
    "features = ['sqft_living', 'grade', 'sqft_above', 'sqft_living15',\n",
    "       'bathrooms', 'view', 'sqft_basement', 'bedrooms', 'lat', 'waterfront',\n",
    "       'floors', 'yr_renovated', 'sqft_lot', 'sqft_lot15', 'yr_built',\n",
    "       'condition', 'long', 'id', 'zipcode']\n",
    "\n",
    "x_train,x_test,y_train,y_test = train_test_split(df[features],df['price'],test_size = 0.20,shuffle = True)\n",
    "\n",
    "ln_reg = LinearRegression()\n",
    "\n",
    "ln_reg.fit(x_train,y_train)\n",
    "\n",
    "print('intercept :',ln_reg.intercept_)\n",
    "\n",
    "print('coefficient :',ln_reg.coef_)\n",
    "\n",
    "print('score :',ln_reg.score(x_test,y_test))\n",
    "\n",
    "y_pred = ln_reg.predict(x_test)\n",
    "\n",
    "print('predicted_value :',y_pred)\n",
    "\n",
    "MSE = mse(y_test,y_pred)\n",
    "\n",
    "print('MSE :',MSE)\n",
    "\n",
    "print('RMSE :',sqrt(MSE))\n",
    "\n",
    "print('R2_score :',r2_score(y_test,y_pred))\n",
    "\n",
    "plt.scatter(x = x_test['sqft_living'] , y = y_test)\n",
    "\n",
    "plt.scatter(x = x_test['sqft_living'] , y = y_pred)\n",
    "\n",
    "plt.show()\n",
    "      "
   ]
  },
  {
   "cell_type": "code",
   "execution_count": null,
   "metadata": {},
   "outputs": [],
   "source": []
  },
  {
   "cell_type": "code",
   "execution_count": 10,
   "metadata": {},
   "outputs": [],
   "source": [
    "#Lasso Regression\n",
    "\n",
    "#Prediction model - 1"
   ]
  },
  {
   "cell_type": "code",
   "execution_count": 11,
   "metadata": {},
   "outputs": [
    {
     "name": "stderr",
     "output_type": "stream",
     "text": [
      "C:\\Users\\user\\Anaconda3\\lib\\site-packages\\sklearn\\linear_model\\coordinate_descent.py:492: ConvergenceWarning: Objective did not converge. You might want to increase the number of iterations. Fitting data with very small alpha may cause precision problems.\n",
      "  ConvergenceWarning)\n"
     ]
    },
    {
     "name": "stdout",
     "output_type": "stream",
     "text": [
      "intercept : [-31953144.54258888]\n",
      "coefficient : [ 2.12239946e+02  7.73743862e+04 -1.86085466e+01  6.75751855e+00\n",
      " -1.05247343e+04  9.56935855e+04 -1.24881344e+01 -2.63620792e+04\n",
      "  6.63825400e+05]\n",
      "score : 0.6363380667244176\n",
      "predicted_value : [ 430876.74922309  572410.10372699 1579177.61920899 ...  516390.07275505\n",
      "  322402.61355311  104366.23319896]\n",
      "MSE: 49410653440.73236\n",
      "RMSE : 222285.07246491467\n",
      "R2_score : 0.6363380667244176\n"
     ]
    },
    {
     "data": {
      "image/png": "[encoded data removed]",
      "text/plain": [
       "<Figure size 432x288 with 1 Axes>"
      ]
     },
     "metadata": {
      "needs_background": "light"
     },
     "output_type": "display_data"
    }
   ],
   "source": [
    "#selected features based on correlation of different data with prices for which corr value is above 30%\n",
    "\n",
    "features = [ 'sqft_living', 'grade', 'sqft_above', 'sqft_living15','bathrooms','view', 'sqft_basement', 'bedrooms', 'lat']\n",
    "\n",
    "x_train,x_test,y_train,y_test = train_test_split(df[features],df[['price']],test_size = 0.20,shuffle = True)\n",
    "\n",
    "lasso = Lasso(alpha=0.2, normalize=True)\n",
    "\n",
    "lasso.fit(x_train,y_train)\n",
    "\n",
    "print('intercept :',lasso.intercept_)\n",
    "\n",
    "print('coefficient :',lasso.coef_)\n",
    "\n",
    "print('score :',lasso.score(x_test,y_test))\n",
    "\n",
    "y_pred = lasso.predict(x_test)\n",
    "\n",
    "print('predicted_value :',y_pred)\n",
    "\n",
    "MSE = mse(y_test , y_pred)\n",
    "\n",
    "print('MSE:',MSE)\n",
    "\n",
    "print('RMSE :',sqrt(MSE))\n",
    "\n",
    "print('R2_score :',r2_score(y_test,y_pred))\n",
    "\n",
    "plt.scatter(x = x_test['sqft_living'] , y = y_test)\n",
    "\n",
    "plt.scatter(x = x_test['sqft_living'], y = y_pred)\n",
    "\n",
    "plt.show()\n"
   ]
  },
  {
   "cell_type": "code",
   "execution_count": 12,
   "metadata": {},
   "outputs": [],
   "source": [
    "#Lasso Regression\n",
    "\n",
    "#predicting model - 2"
   ]
  },
  {
   "cell_type": "code",
   "execution_count": 13,
   "metadata": {},
   "outputs": [
    {
     "name": "stdout",
     "output_type": "stream",
     "text": [
      "intercept : 59084653.66586841\n",
      "coefficient : [ 1.19238105e+05  1.88289301e+02  6.04206150e+04  8.17634032e+05\n",
      "  6.33176149e+05  1.92565762e+05  5.78679400e+01  4.50911319e-01\n",
      "  3.50092426e-01 -4.20103860e+02  2.93969996e+04 -2.90504815e+04\n",
      " -1.17464542e-06 -1.02819381e+03]\n",
      "score : 0.442262026720842\n",
      "predicted_value : [398758.20947908 182016.18964964 410751.76049195 ... 720329.50617071\n",
      " 580535.09923501 673012.15375068]\n",
      "MSE : 68591572884.2568\n",
      "RMSE : 261899.92914137413\n",
      "R2_score : 0.442262026720842\n"
     ]
    },
    {
     "data": {
      "image/png": "[encoded data removed]",
      "text/plain": [
       "<Figure size 432x288 with 1 Axes>"
      ]
     },
     "metadata": {
      "needs_background": "light"
     },
     "output_type": "display_data"
    }
   ],
   "source": [
    "#selected features based on correlation of different data with prices for which corr value is below 30%\n",
    "\n",
    "features = ['view', 'sqft_basement', 'bedrooms', 'lat','waterfront','floors', 'yr_renovated', 'sqft_lot', 'sqft_lot15', 'yr_built','condition', 'long', 'id', 'zipcode']\n",
    "\n",
    "x_train,x_test,y_train,y_test = train_test_split(df[features],df['price'],test_size = 0.20,shuffle = True)\n",
    "\n",
    "lasso = Lasso(alpha=0.2, normalize=True)\n",
    "\n",
    "lasso.fit(x_train,y_train)\n",
    "\n",
    "print('intercept :',lasso.intercept_)\n",
    "\n",
    "print('coefficient :',lasso.coef_)\n",
    "\n",
    "print('score :',lasso.score(x_test,y_test))\n",
    "\n",
    "y_pred = lasso.predict(x_test)\n",
    "\n",
    "print('predicted_value :',y_pred)\n",
    "\n",
    "MSE = mse(y_test,y_pred)\n",
    "\n",
    "print('MSE :',MSE)\n",
    "\n",
    "print('RMSE :',sqrt(MSE))\n",
    "\n",
    "print('R2_score :',r2_score(y_test,y_pred))\n",
    "\n",
    "plt.scatter(x = x_test['waterfront'] , y = y_test)\n",
    "\n",
    "plt.scatter(x = x_test['waterfront'] , y = y_pred)\n",
    "\n",
    "plt.show()\n",
    "      "
   ]
  },
  {
   "cell_type": "code",
   "execution_count": 14,
   "metadata": {},
   "outputs": [],
   "source": [
    "#Lasso Regression\n",
    "\n",
    "#Predicting model - 3"
   ]
  },
  {
   "cell_type": "code",
   "execution_count": 15,
   "metadata": {},
   "outputs": [
    {
     "name": "stderr",
     "output_type": "stream",
     "text": [
      "C:\\Users\\user\\Anaconda3\\lib\\site-packages\\sklearn\\linear_model\\coordinate_descent.py:492: ConvergenceWarning: Objective did not converge. You might want to increase the number of iterations. Fitting data with very small alpha may cause precision problems.\n",
      "  ConvergenceWarning)\n"
     ]
    },
    {
     "name": "stdout",
     "output_type": "stream",
     "text": [
      "intercept : 9374628.12907843\n",
      "coefficient : [ 2.09957531e+02  9.59739587e+04 -2.96855185e+01  2.20532558e+01\n",
      "  3.82531078e+04  5.32004884e+04 -6.12948479e+01 -3.34600154e+04\n",
      "  6.08402235e+05  5.89426875e+05  7.23281885e+03  1.48372236e+01\n",
      "  7.76524231e-02 -3.64087358e-01 -2.60688373e+03  2.72491343e+04\n",
      " -2.18697462e+05 -9.62488569e-07 -6.17739155e+02]\n",
      "score : 0.6956319871663744\n",
      "predicted_value : [ 921104.35713139 2193579.27752627  263369.21128458 ...  398454.32329531\n",
      "  513363.45487505  395784.87371988]\n",
      "MSE : 41735896255.30247\n",
      "RMSE : 204293.6520191033\n",
      "R2_score : 0.6956319871663744\n"
     ]
    },
    {
     "data": {
      "image/png": "[encoded data removed]",
      "text/plain": [
       "<Figure size 432x288 with 1 Axes>"
      ]
     },
     "metadata": {
      "needs_background": "light"
     },
     "output_type": "display_data"
    }
   ],
   "source": [
    "#selected all features to find maximum score_value(Accurarcy)\n",
    "\n",
    "features = ['sqft_living', 'grade', 'sqft_above', 'sqft_living15',\n",
    "       'bathrooms', 'view', 'sqft_basement', 'bedrooms', 'lat', 'waterfront',\n",
    "       'floors', 'yr_renovated', 'sqft_lot', 'sqft_lot15', 'yr_built',\n",
    "       'condition', 'long', 'id', 'zipcode']\n",
    "\n",
    "x_train,x_test,y_train,y_test = train_test_split(df[features],df['price'],test_size = 0.20,shuffle = True)\n",
    "\n",
    "lasso = Lasso(alpha=0.2, normalize=True)\n",
    "\n",
    "lasso.fit(x_train,y_train)\n",
    "\n",
    "print('intercept :',lasso.intercept_)\n",
    "\n",
    "print('coefficient :',lasso.coef_)\n",
    "\n",
    "print('score :',lasso.score(x_test,y_test))\n",
    "\n",
    "y_pred = lasso.predict(x_test)\n",
    "\n",
    "print('predicted_value :',y_pred)\n",
    "\n",
    "MSE = mse(y_test,y_pred)\n",
    "\n",
    "print('MSE :',MSE)\n",
    "\n",
    "print('RMSE :',sqrt(MSE))\n",
    "\n",
    "print('R2_score :',r2_score(y_test,y_pred))\n",
    "\n",
    "plt.scatter(x = x_test['sqft_living'] , y = y_test)\n",
    "\n",
    "plt.scatter(x = x_test['sqft_living'] , y = y_pred)\n",
    "\n",
    "plt.show()"
   ]
  },
  {
   "cell_type": "code",
   "execution_count": null,
   "metadata": {},
   "outputs": [],
   "source": []
  },
  {
   "cell_type": "code",
   "execution_count": 16,
   "metadata": {},
   "outputs": [],
   "source": [
    "#Ridge Regression\n",
    "\n",
    "#Predicting model - 1"
   ]
  },
  {
   "cell_type": "code",
   "execution_count": 17,
   "metadata": {},
   "outputs": [
    {
     "name": "stdout",
     "output_type": "stream",
     "text": [
      "intercept : [-16988426.60466309]\n",
      "coefficient : [[5.62798540e+01 4.66038979e+04 5.02425475e+01 5.16131045e+01\n",
      "  3.12549072e+04 5.68297752e+04 6.53062136e+01 2.36962636e+03\n",
      "  3.52294677e+05]]\n",
      "score : 0.5737344259866168\n",
      "predicted_value : [[547854.32506204]\n",
      " [505839.45491172]\n",
      " [520791.22794459]\n",
      " ...\n",
      " [599644.68607119]\n",
      " [446626.61744813]\n",
      " [564355.27192465]]\n",
      "MSE: 62099959845.222565\n",
      "RMSE : 249198.6353197436\n",
      "R2_score : 0.5737344259866168\n"
     ]
    },
    {
     "data": {
      "image/png": "[encoded data removed]",
      "text/plain": [
       "<Figure size 432x288 with 1 Axes>"
      ]
     },
     "metadata": {
      "needs_background": "light"
     },
     "output_type": "display_data"
    }
   ],
   "source": [
    "#selected features based on correlation of different data with prices for which corr value is above 30%\n",
    "\n",
    "features = [ 'sqft_living', 'grade', 'sqft_above', 'sqft_living15','bathrooms','view', 'sqft_basement', 'bedrooms', 'lat']\n",
    "\n",
    "x_train,x_test,y_train,y_test = train_test_split(df[features],df[['price']],test_size = 0.20,shuffle = True)\n",
    "\n",
    "ridge = Ridge(normalize=True)\n",
    "\n",
    "ridge.fit(x_train,y_train)\n",
    "\n",
    "print('intercept :',ridge.intercept_)\n",
    "\n",
    "print('coefficient :',ridge.coef_)\n",
    "\n",
    "print('score :',ridge.score(x_test,y_test))\n",
    "\n",
    "y_pred = ridge.predict(x_test)\n",
    "\n",
    "print('predicted_value :',y_pred)\n",
    "\n",
    "MSE = mse(y_test , y_pred)\n",
    "\n",
    "print('MSE:',MSE)\n",
    "\n",
    "print('RMSE :',sqrt(MSE))\n",
    "\n",
    "print('R2_score :',r2_score(y_test,y_pred))\n",
    "\n",
    "plt.scatter(x = x_test['sqft_living'] , y = y_test)\n",
    "\n",
    "plt.scatter(x = x_test['sqft_living'], y = y_pred)\n",
    "\n",
    "plt.show()\n"
   ]
  },
  {
   "cell_type": "code",
   "execution_count": null,
   "metadata": {},
   "outputs": [],
   "source": []
  },
  {
   "cell_type": "code",
   "execution_count": 18,
   "metadata": {},
   "outputs": [],
   "source": [
    "#Ridge Regression\n",
    "\n",
    "#Predicting model - 2"
   ]
  },
  {
   "cell_type": "code",
   "execution_count": 19,
   "metadata": {},
   "outputs": [
    {
     "name": "stdout",
     "output_type": "stream",
     "text": [
      "intercept : 9473266.252493434\n",
      "coefficient : [ 7.19091156e+04  1.04389946e+02  4.44685148e+04  4.02268892e+05\n",
      "  3.91183773e+05  8.41853012e+04  3.68250849e+01  2.76532424e-01\n",
      "  3.43390429e-01  1.57501648e+02  1.36423024e+04  1.32572329e+04\n",
      " -6.47892912e-07 -2.76682715e+02]\n",
      "score : 0.3467877631573886\n",
      "predicted_value : [479233.44764893 646400.51155696 437584.48108086 ... 330309.91348794\n",
      " 419820.64475679 345484.70391482]\n",
      "MSE : 94332872228.8561\n",
      "RMSE : 307136.5693447397\n",
      "R2_score : 0.3467877631573886\n"
     ]
    },
    {
     "data": {
      "image/png": "[encoded data removed]",
      "text/plain": [
       "<Figure size 432x288 with 1 Axes>"
      ]
     },
     "metadata": {
      "needs_background": "light"
     },
     "output_type": "display_data"
    }
   ],
   "source": [
    "#selected features based on correlation of different data with prices for which corr value is below 30%\n",
    "\n",
    "features = ['view', 'sqft_basement', 'bedrooms', 'lat','waterfront','floors', 'yr_renovated', 'sqft_lot', 'sqft_lot15', 'yr_built','condition', 'long', 'id', 'zipcode']\n",
    "\n",
    "x_train,x_test,y_train,y_test = train_test_split(df[features],df['price'],test_size = 0.20,shuffle = True)\n",
    "\n",
    "ridge = Ridge(normalize=True)\n",
    "\n",
    "ridge.fit(x_train,y_train)\n",
    "\n",
    "print('intercept :',ridge.intercept_)\n",
    "\n",
    "print('coefficient :',ridge.coef_)\n",
    "\n",
    "print('score :',ridge.score(x_test,y_test))\n",
    "\n",
    "y_pred = ridge.predict(x_test)\n",
    "\n",
    "print('predicted_value :',y_pred)\n",
    "\n",
    "MSE = mse(y_test,y_pred)\n",
    "\n",
    "print('MSE :',MSE)\n",
    "\n",
    "print('RMSE :',sqrt(MSE))\n",
    "\n",
    "print('R2_score :',r2_score(y_test,y_pred))\n",
    "\n",
    "plt.scatter(x = x_test['waterfront'] , y = y_test)\n",
    "\n",
    "plt.scatter(x = x_test['waterfront'] , y = y_pred)\n",
    "\n",
    "plt.show()\n",
    "      "
   ]
  },
  {
   "cell_type": "code",
   "execution_count": null,
   "metadata": {},
   "outputs": [],
   "source": []
  },
  {
   "cell_type": "code",
   "execution_count": 20,
   "metadata": {},
   "outputs": [],
   "source": [
    "#Ridge Regression\n",
    "\n",
    "#Predicting model - 3"
   ]
  },
  {
   "cell_type": "code",
   "execution_count": 21,
   "metadata": {},
   "outputs": [
    {
     "name": "stdout",
     "output_type": "stream",
     "text": [
      "intercept : -21990272.780493986\n",
      "coefficient : [ 5.68070906e+01  4.89997754e+04  5.42085924e+01  5.40663674e+01\n",
      "  3.74100316e+04  4.56915390e+04  5.56291746e+01  3.02462099e+03\n",
      "  3.36525950e+05  3.60066618e+05  1.92314076e+04  3.28074437e+01\n",
      "  7.00057084e-02 -3.26536215e-02 -8.33066969e+02  2.05467465e+04\n",
      " -9.79893584e+04 -6.95521597e-07 -4.81646556e+01]\n",
      "score : 0.6383741148295177\n",
      "predicted_value : [505735.80459876 505081.9012797  506527.24489842 ... 724984.85057365\n",
      " 250811.88407705 506844.23250743]\n",
      "MSE : 44925284859.931526\n",
      "RMSE : 211955.8559227169\n",
      "R2_score : 0.6383741148295177\n"
     ]
    },
    {
     "data": {
      "image/png": "[encoded data removed]",
      "text/plain": [
       "<Figure size 432x288 with 1 Axes>"
      ]
     },
     "metadata": {
      "needs_background": "light"
     },
     "output_type": "display_data"
    }
   ],
   "source": [
    "#selected all features to find maximum score_value(Accurarcy)\n",
    "\n",
    "features = ['sqft_living', 'grade', 'sqft_above', 'sqft_living15',\n",
    "       'bathrooms', 'view', 'sqft_basement', 'bedrooms', 'lat', 'waterfront',\n",
    "       'floors', 'yr_renovated', 'sqft_lot', 'sqft_lot15', 'yr_built',\n",
    "       'condition', 'long', 'id', 'zipcode']\n",
    "\n",
    "x_train,x_test,y_train,y_test = train_test_split(df[features],df['price'],test_size = 0.20,shuffle = True)\n",
    "\n",
    "ridge = Ridge(normalize = True)\n",
    "\n",
    "ridge.fit(x_train,y_train)\n",
    "\n",
    "print('intercept :',ridge.intercept_)\n",
    "\n",
    "print('coefficient :',ridge.coef_)\n",
    "\n",
    "print('score :',ridge.score(x_test,y_test))\n",
    "\n",
    "y_pred = ridge.predict(x_test)\n",
    "\n",
    "print('predicted_value :',y_pred)\n",
    "\n",
    "MSE = mse(y_test,y_pred)\n",
    "\n",
    "print('MSE :',MSE)\n",
    "\n",
    "print('RMSE :',sqrt(MSE))\n",
    "\n",
    "print('R2_score :',r2_score(y_test,y_pred))\n",
    "\n",
    "plt.scatter(x = x_test['sqft_living'] , y = y_test)\n",
    "\n",
    "plt.scatter(x = x_test['sqft_living'] , y = y_pred)\n",
    "\n",
    "plt.show()"
   ]
  },
  {
   "cell_type": "code",
   "execution_count": null,
   "metadata": {},
   "outputs": [],
   "source": []
  },
  {
   "cell_type": "code",
   "execution_count": 22,
   "metadata": {},
   "outputs": [],
   "source": [
    "#Polymnomial Regression\n",
    "\n",
    "#Predciting model - 1"
   ]
  },
  {
   "cell_type": "code",
   "execution_count": null,
   "metadata": {},
   "outputs": [],
   "source": []
  },
  {
   "cell_type": "code",
   "execution_count": 23,
   "metadata": {},
   "outputs": [
    {
     "name": "stdout",
     "output_type": "stream",
     "text": [
      "score : 0.8101029635406374\n",
      "predicted_value : [ 506930.5493663  538310.5493663 1445590.5493663 ...  929046.5493663\n",
      "  681932.5493663  294072.5493663]\n",
      "MSE : 29602930443.760143\n",
      "RMSE : 172055.02155926792\n",
      "R2_score : 0.8101029635406374\n"
     ]
    },
    {
     "data": {
      "image/png": "[encoded data removed]",
      "text/plain": [
       "<Figure size 432x288 with 1 Axes>"
      ]
     },
     "metadata": {
      "needs_background": "light"
     },
     "output_type": "display_data"
    }
   ],
   "source": [
    "#selected features based on correlation of different data with prices for which corr value is above 30%\n",
    "\n",
    "features = [ 'sqft_living', 'grade', 'sqft_above', 'sqft_living15','bathrooms','view', 'sqft_basement', 'bedrooms', 'lat']\n",
    "\n",
    "x = df[features]\n",
    "\n",
    "y = df['price']\n",
    "\n",
    "x_train,x_test,y_train,y_test = train_test_split(x,y,test_size = 0.20,shuffle = True)\n",
    "\n",
    "poly = PolynomialFeatures(degree = 4) \n",
    "\n",
    "x_ = poly.fit_transform(x)\n",
    "\n",
    "x_test_ = poly.fit_transform(x_test)\n",
    "\n",
    "ln_reg = LinearRegression()\n",
    "\n",
    "ln_reg.fit(x_,y)\n",
    "\n",
    "#print('intercept :',ln_reg.intercept_)\n",
    "\n",
    "#print('coefficient :',ln_reg.coef_)\n",
    "\n",
    "print('score :',ln_reg.score(x_test_,y_test))\n",
    "\n",
    "y_pred = ln_reg.predict(x_test_)\n",
    "\n",
    "print('predicted_value :',y_pred)\n",
    "\n",
    "MSE = mse(y_test,y_pred)\n",
    "\n",
    "print('MSE :',MSE)\n",
    "\n",
    "print('RMSE :',sqrt(MSE))\n",
    "\n",
    "print('R2_score :',r2_score(y_test,y_pred))\n",
    "\n",
    "plt.scatter(x = x_test['sqft_living'] , y = y_test)\n",
    "\n",
    "plt.scatter(x = x_test['sqft_living'] , y = y_pred)\n",
    "\n",
    "plt.show()"
   ]
  },
  {
   "cell_type": "code",
   "execution_count": null,
   "metadata": {},
   "outputs": [],
   "source": []
  },
  {
   "cell_type": "code",
   "execution_count": 24,
   "metadata": {},
   "outputs": [],
   "source": [
    "#Polynomial Regression\n",
    "\n",
    "#Prediction model - 2"
   ]
  },
  {
   "cell_type": "code",
   "execution_count": 25,
   "metadata": {},
   "outputs": [
    {
     "name": "stdout",
     "output_type": "stream",
     "text": [
      "score : 0.13924787477100253\n",
      "predicted_value : [605847.2318553  561901.98371277 367990.3543248  ... 594971.52709775\n",
      " 416109.80839718 595990.53372814]\n",
      "MSE : 120711885076.7875\n",
      "RMSE : 347436.15971396456\n",
      "R2_score : 0.13924787477100253\n"
     ]
    },
    {
     "data": {
      "image/png": "[encoded data removed]",
      "text/plain": [
       "<Figure size 432x288 with 1 Axes>"
      ]
     },
     "metadata": {
      "needs_background": "light"
     },
     "output_type": "display_data"
    }
   ],
   "source": [
    "#selected features based on correlation of different data with prices for which corr value is below 30%\n",
    "\n",
    "features = ['view', 'sqft_basement', 'bedrooms', 'lat','waterfront','floors', 'yr_renovated', 'sqft_lot', 'sqft_lot15', 'yr_built','condition', 'long', 'id', 'zipcode']\n",
    "\n",
    "x = df[features]\n",
    "\n",
    "y = df['price']\n",
    "\n",
    "x_train,x_test,y_train,y_test = train_test_split(x,y,test_size = 0.20,shuffle = True)\n",
    "\n",
    "poly = PolynomialFeatures(degree = 4) \n",
    "\n",
    "x_ = poly.fit_transform(x)\n",
    "\n",
    "x_test_ = poly.fit_transform(x_test)\n",
    "\n",
    "ln_reg = LinearRegression()\n",
    "\n",
    "ln_reg.fit(x_,y)\n",
    "\n",
    "#print('intercept :',ln_reg.intercept_)\n",
    "\n",
    "#print('coefficient :',ln_reg.coef_)\n",
    "\n",
    "print('score :',ln_reg.score(x_test_,y_test))\n",
    "\n",
    "y_pred = ln_reg.predict(x_test_)\n",
    "\n",
    "print('predicted_value :',y_pred)\n",
    "\n",
    "MSE = mse(y_test,y_pred)\n",
    "\n",
    "print('MSE :',MSE)\n",
    "\n",
    "print('RMSE :',sqrt(MSE))\n",
    "\n",
    "print('R2_score :',r2_score(y_test,y_pred))\n",
    "\n",
    "plt.scatter(x = x_test['view'] , y = y_test)\n",
    "\n",
    "plt.scatter(x = x_test['view'] , y = y_pred)\n",
    "\n",
    "plt.show()\n",
    "\n"
   ]
  },
  {
   "cell_type": "code",
   "execution_count": null,
   "metadata": {},
   "outputs": [],
   "source": []
  },
  {
   "cell_type": "code",
   "execution_count": 26,
   "metadata": {},
   "outputs": [],
   "source": [
    "#Polynomial Regression\n",
    "\n",
    "#Predicting Model - 3"
   ]
  },
  {
   "cell_type": "code",
   "execution_count": 27,
   "metadata": {},
   "outputs": [
    {
     "name": "stdout",
     "output_type": "stream",
     "text": [
      "score : 0.7607128225548878\n",
      "predicted_value : [[ 466317.25289707]\n",
      " [ 600979.60538703]\n",
      " [ 416782.97535372]\n",
      " ...\n",
      " [ 877646.9458754 ]\n",
      " [ 623242.93154822]\n",
      " [1562434.93673317]]\n",
      "MSE : 34504664808.519966\n",
      "RMSE : 185754.3130280424\n",
      "R2_score : 0.7607128225548878\n"
     ]
    },
    {
     "data": {
      "image/png": "[encoded data removed]",
      "text/plain": [
       "<Figure size 432x288 with 1 Axes>"
      ]
     },
     "metadata": {
      "needs_background": "light"
     },
     "output_type": "display_data"
    }
   ],
   "source": [
    "#selected all features to find maximum score_value(Accurarcy)\n",
    "\n",
    "x = df[['sqft_living', 'grade', 'sqft_above', 'sqft_living15',\n",
    "       'bathrooms', 'view', 'sqft_basement', 'bedrooms', 'lat', 'waterfront',\n",
    "       'floors', 'yr_renovated', 'sqft_lot', 'sqft_lot15', 'yr_built',\n",
    "       'condition', 'long', 'id', 'zipcode']]\n",
    "\n",
    "\n",
    "y = df[['price']]\n",
    "\n",
    "\n",
    "x_train,x_test,y_train,y_test = train_test_split(x,y,test_size = 0.20,shuffle = True)\n",
    "\n",
    "poly = PolynomialFeatures(degree = 2)\n",
    "\n",
    "x_ = poly.fit_transform(x)\n",
    "\n",
    "x_test_ = poly.fit_transform(x_test)\n",
    "\n",
    "ln_reg = LinearRegression()\n",
    "\n",
    "ln_reg.fit(x_,y)\n",
    "\n",
    "#print('intercept :',ln_reg.intercept_)\n",
    "\n",
    "#print('coefficient :',ln_reg.coef_)\n",
    "\n",
    "print('score :',ln_reg.score(x_test_,y_test))\n",
    "\n",
    "y_pred = ln_reg.predict(x_test_)\n",
    "\n",
    "print('predicted_value :',y_pred)\n",
    "\n",
    "MSE = mse(y_test,y_pred)\n",
    "\n",
    "print('MSE :',MSE)\n",
    "\n",
    "print('RMSE :',sqrt(MSE))\n",
    "\n",
    "print('R2_score :',r2_score(y_test,y_pred))\n",
    "\n",
    "plt.scatter(x = x_test['sqft_living'] , y = y_test)\n",
    "\n",
    "plt.scatter(x = x_test['sqft_living'] , y = y_pred)\n",
    "\n",
    "plt.show()"
   ]
  },
  {
   "cell_type": "code",
   "execution_count": null,
   "metadata": {},
   "outputs": [],
   "source": []
  },
  {
   "cell_type": "code",
   "execution_count": 28,
   "metadata": {},
   "outputs": [],
   "source": [
    "#Decision tree Algorithm\n",
    "\n",
    "#Predicting model - 1 "
   ]
  },
  {
   "cell_type": "code",
   "execution_count": 29,
   "metadata": {},
   "outputs": [
    {
     "name": "stdout",
     "output_type": "stream",
     "text": [
      "score : 0.5859967009047213\n",
      "predicted_value : [ 750000.  270000.  535000. ... 1960000.  470000. 1245000.]\n",
      "MSE: 50255828527.17449\n",
      "RMSE : 224178.117859827\n",
      "R2_score : 0.5859967009047213\n"
     ]
    },
    {
     "data": {
      "text/plain": [
       "<function matplotlib.pyplot.show(*args, **kw)>"
      ]
     },
     "execution_count": 29,
     "metadata": {},
     "output_type": "execute_result"
    },
    {
     "data": {
      "image/png": "[encoded data removed]",
      "text/plain": [
       "<Figure size 432x288 with 1 Axes>"
      ]
     },
     "metadata": {
      "needs_background": "light"
     },
     "output_type": "display_data"
    }
   ],
   "source": [
    "#selected features based on correlation of different data with prices for which corr value is above 30%\n",
    "\n",
    "features = [ 'sqft_living', 'grade', 'sqft_above', 'sqft_living15','bathrooms','view', 'sqft_basement', 'bedrooms', 'lat']\n",
    "\n",
    "x_train,x_test,y_train,y_test = train_test_split(df[features],df[['price']],test_size = 0.20,shuffle = True)\n",
    "\n",
    "dt_reg = DecisionTreeRegressor()\n",
    "\n",
    "dt_reg.fit(x_train,y_train)\n",
    "\n",
    "#print('intercept :',dt_reg.intercept_)\n",
    "\n",
    "#print('coefficient :',dt_reg.coef_)\n",
    "\n",
    "print('score :',dt_reg.score(x_test,y_test))\n",
    "\n",
    "y_pred = dt_reg.predict(x_test)\n",
    "\n",
    "print('predicted_value :',y_pred)\n",
    "\n",
    "MSE = mse(y_test , y_pred)\n",
    "\n",
    "print('MSE:',MSE)\n",
    "\n",
    "print('RMSE :',sqrt(MSE))\n",
    "\n",
    "print('R2_score :',r2_score(y_test,y_pred))\n",
    "\n",
    "plt.scatter(x = x_test['sqft_living'] , y = y_test)\n",
    "\n",
    "plt.scatter(x = x_test['sqft_living'], y = y_pred)\n",
    "\n",
    "plt.show\n",
    "\n"
   ]
  },
  {
   "cell_type": "code",
   "execution_count": null,
   "metadata": {},
   "outputs": [],
   "source": []
  },
  {
   "cell_type": "code",
   "execution_count": 30,
   "metadata": {},
   "outputs": [],
   "source": [
    "#Decision tree Regression\n",
    "\n",
    "#Predicting Model - 2"
   ]
  },
  {
   "cell_type": "code",
   "execution_count": 31,
   "metadata": {},
   "outputs": [
    {
     "name": "stdout",
     "output_type": "stream",
     "text": [
      "score : 0.6294601497618314\n",
      "predicted_value : [ 478000.  475000. 1300000. ...  435000.  277000. 1505000.]\n",
      "MSE : 47017445153.46785\n",
      "RMSE : 216835.0644002668\n",
      "R2_score : 0.6294601497618314\n"
     ]
    },
    {
     "data": {
      "image/png": "[encoded data removed]",
      "text/plain": [
       "<Figure size 432x288 with 1 Axes>"
      ]
     },
     "metadata": {
      "needs_background": "light"
     },
     "output_type": "display_data"
    }
   ],
   "source": [
    "#selected features based on correlation of different data with prices for which corr value is below 30%\n",
    "\n",
    "features = ['view', 'sqft_basement', 'bedrooms', 'lat','waterfront','floors', 'yr_renovated', 'sqft_lot', 'sqft_lot15', 'yr_built','condition', 'long', 'id', 'zipcode']\n",
    "\n",
    "x_train,x_test,y_train,y_test = train_test_split(df[features],df['price'],test_size = 0.20,shuffle = True)\n",
    "\n",
    "dt_reg = DecisionTreeRegressor()\n",
    "\n",
    "dt_reg.fit(x_train,y_train)\n",
    "\n",
    "#print('intercept :',lasso.intercept_)\n",
    "\n",
    "#print('coefficient :',lasso.coef_)\n",
    "\n",
    "print('score :',dt_reg.score(x_test,y_test))\n",
    "\n",
    "y_pred = dt_reg.predict(x_test)\n",
    "\n",
    "print('predicted_value :',y_pred)\n",
    "\n",
    "MSE = mse(y_test,y_pred)\n",
    "\n",
    "print('MSE :',MSE)\n",
    "\n",
    "print('RMSE :',sqrt(MSE))\n",
    "\n",
    "print('R2_score :',r2_score(y_test,y_pred))\n",
    "\n",
    "plt.scatter(x = x_test['waterfront'] , y = y_test)\n",
    "\n",
    "plt.scatter(x = x_test['waterfront'] , y = y_pred)\n",
    "\n",
    "plt.show()\n",
    "      "
   ]
  },
  {
   "cell_type": "code",
   "execution_count": null,
   "metadata": {},
   "outputs": [],
   "source": []
  },
  {
   "cell_type": "code",
   "execution_count": 32,
   "metadata": {},
   "outputs": [],
   "source": [
    "#Decision tree Algorithm\n",
    "\n",
    "#Predicting Model - 3"
   ]
  },
  {
   "cell_type": "code",
   "execution_count": 33,
   "metadata": {},
   "outputs": [
    {
     "name": "stdout",
     "output_type": "stream",
     "text": [
      "score : 0.7627012742616882\n",
      "predicted_value : [ 290000. 1680000.  695000. ...  600000.  325000.  290000.]\n",
      "MSE : 27308197515.38885\n",
      "RMSE : 165251.92136670862\n",
      "R2_score : 0.7627012742616881\n"
     ]
    },
    {
     "data": {
      "image/png": "[encoded data removed]",
      "text/plain": [
       "<Figure size 432x288 with 1 Axes>"
      ]
     },
     "metadata": {
      "needs_background": "light"
     },
     "output_type": "display_data"
    }
   ],
   "source": [
    "#selected all features to find maximum score_value(Accurarcy)\n",
    "\n",
    "features = ['sqft_living', 'grade', 'sqft_above', 'sqft_living15',\n",
    "       'bathrooms', 'view', 'sqft_basement', 'bedrooms', 'lat', 'waterfront',\n",
    "       'floors', 'yr_renovated', 'sqft_lot', 'sqft_lot15', 'yr_built',\n",
    "       'condition', 'long', 'id', 'zipcode']\n",
    "\n",
    "x_train,x_test,y_train,y_test = train_test_split(df[features],df['price'],test_size = 0.20,shuffle = True)\n",
    "\n",
    "dt_reg = DecisionTreeRegressor()\n",
    "\n",
    "dt_reg.fit(x_train,y_train)\n",
    "\n",
    "#print('intercept :',dt_reg.intercept_)\n",
    "\n",
    "#print('coefficient :',dt_reg.coef_)\n",
    "\n",
    "print('score :',dt_reg.score(x_test,y_test))\n",
    "\n",
    "y_pred = dt_reg.predict(x_test)\n",
    "\n",
    "print('predicted_value :',y_pred)\n",
    "\n",
    "MSE = mse(y_test,y_pred)\n",
    "\n",
    "print('MSE :',MSE)\n",
    "\n",
    "print('RMSE :',sqrt(MSE))\n",
    "\n",
    "print('R2_score :',r2_score(y_test,y_pred))\n",
    "\n",
    "plt.scatter(x = x_test['sqft_living'] , y = y_test)\n",
    "\n",
    "plt.scatter(x = x_test['sqft_living'] , y = y_pred)\n",
    "\n",
    "plt.show()"
   ]
  },
  {
   "cell_type": "code",
   "execution_count": 34,
   "metadata": {},
   "outputs": [],
   "source": [
    "#K Nearest Neighbour\n",
    "\n",
    "#Predicting Model - 1"
   ]
  },
  {
   "cell_type": "code",
   "execution_count": 35,
   "metadata": {},
   "outputs": [
    {
     "name": "stdout",
     "output_type": "stream",
     "text": [
      "score : 0.40917974396506884\n",
      "predicted_value : [[1163333.33333333]\n",
      " [ 249983.33333333]\n",
      " [ 378500.        ]\n",
      " ...\n",
      " [ 501283.33333333]\n",
      " [ 292583.33333333]\n",
      " [ 435000.        ]]\n",
      "MSE: 79414728733.57388\n",
      "RMSE : 281806.1900199743\n",
      "R2_score : 0.40917974396506884\n"
     ]
    },
    {
     "data": {
      "text/plain": [
       "<function matplotlib.pyplot.show(*args, **kw)>"
      ]
     },
     "execution_count": 35,
     "metadata": {},
     "output_type": "execute_result"
    },
    {
     "data": {
      "image/png": "[encoded data removed]",
      "text/plain": [
       "<Figure size 432x288 with 1 Axes>"
      ]
     },
     "metadata": {
      "needs_background": "light"
     },
     "output_type": "display_data"
    }
   ],
   "source": [
    "#selected features based on correlation of different data with prices for which corr value is above 30%\n",
    "\n",
    "features = [ 'sqft_living', 'grade', 'sqft_above', 'sqft_living15','bathrooms','view', 'sqft_basement', 'bedrooms', 'lat']\n",
    "\n",
    "x_train,x_test,y_train,y_test = train_test_split(df[features],df[['price']],test_size = 0.20,shuffle = True)\n",
    "\n",
    "knn_reg = KNeighborsRegressor(n_neighbors=3) \n",
    "\n",
    "knn_reg.fit(x_train,y_train)\n",
    "\n",
    "#print('intercept :',dt_reg.intercept_)\n",
    "\n",
    "#print('coefficient :',dt_reg.coef_)\n",
    "\n",
    "print('score :',knn_reg.score(x_test,y_test))\n",
    "\n",
    "y_pred = knn_reg.predict(x_test)\n",
    "\n",
    "print('predicted_value :',y_pred)\n",
    "\n",
    "MSE = mse(y_test , y_pred)\n",
    "\n",
    "print('MSE:',MSE)\n",
    "\n",
    "print('RMSE :',sqrt(MSE))\n",
    "\n",
    "print('R2_score :',r2_score(y_test,y_pred))\n",
    "\n",
    "plt.scatter(x = x_test['sqft_living'] , y = y_test)\n",
    "\n",
    "plt.scatter(x = x_test['sqft_living'], y = y_pred)\n",
    "\n",
    "plt.show\n",
    "\n"
   ]
  },
  {
   "cell_type": "code",
   "execution_count": null,
   "metadata": {},
   "outputs": [],
   "source": []
  },
  {
   "cell_type": "code",
   "execution_count": 36,
   "metadata": {},
   "outputs": [],
   "source": [
    "#K Nearest Neighbour\n",
    "\n",
    "#Predicting Model - 2"
   ]
  },
  {
   "cell_type": "code",
   "execution_count": 37,
   "metadata": {},
   "outputs": [
    {
     "name": "stdout",
     "output_type": "stream",
     "text": [
      "score : 0.37809108876631303\n",
      "predicted_value : [263500.         393333.33333333 431666.66666667 ... 331500.\n",
      " 225316.66666667 485333.33333333]\n",
      "MSE : 86618060679.66412\n",
      "RMSE : 294309.4641353963\n",
      "R2_score : 0.37809108876631303\n"
     ]
    },
    {
     "data": {
      "image/png": "[encoded data removed]",
      "text/plain": [
       "<Figure size 432x288 with 1 Axes>"
      ]
     },
     "metadata": {
      "needs_background": "light"
     },
     "output_type": "display_data"
    }
   ],
   "source": [
    "#selected features based on correlation of different data with prices for which corr value is below 30%\n",
    "\n",
    "features = ['view', 'sqft_basement', 'bedrooms', 'lat','waterfront','floors', 'yr_renovated', 'sqft_lot', 'sqft_lot15', 'yr_built','condition', 'long', 'id', 'zipcode']\n",
    "\n",
    "x_train,x_test,y_train,y_test = train_test_split(df[features],df['price'],test_size = 0.20,shuffle = True)\n",
    "\n",
    "knn_reg = KNeighborsRegressor(n_neighbors=3)\n",
    "\n",
    "knn_reg.fit(x_train,y_train)\n",
    "\n",
    "#print('intercept :',lasso.intercept_)\n",
    "\n",
    "#print('coefficient :',lasso.coef_)\n",
    "\n",
    "print('score :',knn_reg.score(x_test,y_test))\n",
    "\n",
    "y_pred = knn_reg.predict(x_test)\n",
    "\n",
    "print('predicted_value :',y_pred)\n",
    "\n",
    "MSE = mse(y_test,y_pred)\n",
    "\n",
    "print('MSE :',MSE)\n",
    "\n",
    "print('RMSE :',sqrt(MSE))\n",
    "\n",
    "print('R2_score :',r2_score(y_test,y_pred))\n",
    "\n",
    "plt.scatter(x = x_test['waterfront'] , y = y_test)\n",
    "\n",
    "plt.scatter(x = x_test['waterfront'] , y = y_pred)\n",
    "\n",
    "plt.show()\n",
    "      "
   ]
  },
  {
   "cell_type": "code",
   "execution_count": null,
   "metadata": {},
   "outputs": [],
   "source": []
  },
  {
   "cell_type": "code",
   "execution_count": 38,
   "metadata": {},
   "outputs": [],
   "source": [
    "#K Nearest Neighbour\n",
    "\n",
    "#Predicting Model - 3"
   ]
  },
  {
   "cell_type": "code",
   "execution_count": 39,
   "metadata": {},
   "outputs": [
    {
     "name": "stdout",
     "output_type": "stream",
     "text": [
      "score : 0.3693743874312093\n",
      "predicted_value : [306225.         604333.33333333 279466.66666667 ... 512516.66666667\n",
      " 909333.33333333 786333.33333333]\n",
      "MSE : 89015993623.68213\n",
      "RMSE : 298355.48197357147\n",
      "R2_score : 0.3693743874312093\n"
     ]
    },
    {
     "data": {
      "image/png": "[encoded data removed]",
      "text/plain": [
       "<Figure size 432x288 with 1 Axes>"
      ]
     },
     "metadata": {
      "needs_background": "light"
     },
     "output_type": "display_data"
    }
   ],
   "source": [
    "#selected all features to find maximum score_value(Accurarcy)\n",
    "\n",
    "features = ['sqft_living', 'grade', 'sqft_above', 'sqft_living15',\n",
    "       'bathrooms', 'view', 'sqft_basement', 'bedrooms', 'lat', 'waterfront',\n",
    "       'floors', 'yr_renovated', 'sqft_lot', 'sqft_lot15', 'yr_built',\n",
    "       'condition', 'long', 'id', 'zipcode']\n",
    "\n",
    "x_train,x_test,y_train,y_test = train_test_split(df[features],df['price'],test_size = 0.20,shuffle = True)\n",
    "\n",
    "knn_reg = KNeighborsRegressor(n_neighbors=3)\n",
    "\n",
    "knn_reg.fit(x_train,y_train)\n",
    "\n",
    "#print('intercept :',poly.intercept_)\n",
    "\n",
    "#print('coefficient :',poly.coef_)\n",
    "\n",
    "print('score :',knn_reg.score(x_test,y_test))\n",
    "\n",
    "y_pred = knn_reg.predict(x_test)\n",
    "\n",
    "print('predicted_value :',y_pred)\n",
    "\n",
    "MSE = mse(y_test,y_pred)\n",
    "\n",
    "print('MSE :',MSE)\n",
    "\n",
    "print('RMSE :',sqrt(MSE))\n",
    "\n",
    "print('R2_score :',r2_score(y_test,y_pred))\n",
    "\n",
    "plt.scatter(x = x_test['sqft_living'] , y = y_test)\n",
    "\n",
    "plt.scatter(x = x_test['sqft_living'] , y = y_pred)\n",
    "\n",
    "plt.show()"
   ]
  },
  {
   "cell_type": "code",
   "execution_count": null,
   "metadata": {},
   "outputs": [],
   "source": []
  },
  {
   "cell_type": "code",
   "execution_count": 40,
   "metadata": {},
   "outputs": [],
   "source": [
    "#Random Forest\n",
    "\n",
    "#Predicting Model - 1"
   ]
  },
  {
   "cell_type": "code",
   "execution_count": 41,
   "metadata": {},
   "outputs": [
    {
     "name": "stdout",
     "output_type": "stream",
     "text": [
      "score : 0.4395006485218905\n",
      "predicted_value : [[435000.        ]\n",
      " [434000.        ]\n",
      " [314333.33333333]\n",
      " ...\n",
      " [450166.66666667]\n",
      " [447666.66666667]\n",
      " [424333.33333333]]\n",
      "MSE: 75908320736.23178\n",
      "RMSE : 275514.64704482007\n",
      "R2_score : 0.4395006485218905\n"
     ]
    },
    {
     "data": {
      "text/plain": [
       "<function matplotlib.pyplot.show(*args, **kw)>"
      ]
     },
     "execution_count": 41,
     "metadata": {},
     "output_type": "execute_result"
    },
    {
     "data": {
      "image/png": "[encoded data removed]",
      "text/plain": [
       "<Figure size 432x288 with 1 Axes>"
      ]
     },
     "metadata": {
      "needs_background": "light"
     },
     "output_type": "display_data"
    }
   ],
   "source": [
    "#selected features based on correlation of different data with prices for which corr value is above 30%\n",
    "\n",
    "features = [ 'sqft_living', 'grade', 'sqft_above', 'sqft_living15','bathrooms','view', 'sqft_basement', 'bedrooms', 'lat']\n",
    "\n",
    "x_train,x_test,y_train,y_test = train_test_split(df[features],df[['price']],test_size = 0.20,shuffle = True)\n",
    "\n",
    "\n",
    "\n",
    "knn_reg.fit(x_train,y_train)\n",
    "\n",
    "#print('intercept :',dt_reg.intercept_)\n",
    "\n",
    "#print('coefficient :',dt_reg.coef_)\n",
    "\n",
    "print('score :',knn_reg.score(x_test,y_test))\n",
    "\n",
    "y_pred = knn_reg.predict(x_test)\n",
    "\n",
    "print('predicted_value :',y_pred)\n",
    "\n",
    "MSE = mse(y_test , y_pred)\n",
    "\n",
    "print('MSE:',MSE)\n",
    "\n",
    "print('RMSE :',sqrt(MSE))\n",
    "\n",
    "print('R2_score :',r2_score(y_test,y_pred))\n",
    "\n",
    "plt.scatter(x = x_test['sqft_living'] , y = y_test)\n",
    "\n",
    "plt.scatter(x = x_test['sqft_living'], y = y_pred)\n",
    "\n",
    "plt.show\n"
   ]
  },
  {
   "cell_type": "code",
   "execution_count": null,
   "metadata": {},
   "outputs": [],
   "source": []
  },
  {
   "cell_type": "code",
   "execution_count": 42,
   "metadata": {},
   "outputs": [],
   "source": [
    "#Random Forest Algorithm\n",
    "\n",
    "#predicting model - 1"
   ]
  },
  {
   "cell_type": "code",
   "execution_count": 43,
   "metadata": {},
   "outputs": [
    {
     "name": "stderr",
     "output_type": "stream",
     "text": [
      "C:\\Users\\user\\Anaconda3\\lib\\site-packages\\ipykernel_launcher.py:9: DataConversionWarning: A column-vector y was passed when a 1d array was expected. Please change the shape of y to (n_samples,), for example using ravel().\n",
      "  if __name__ == '__main__':\n"
     ]
    },
    {
     "name": "stdout",
     "output_type": "stream",
     "text": [
      "score : 0.8102645545681287\n",
      "predicted_value : [358380.583      217969.127      208458.55       ... 561069.45266667\n",
      " 357653.07966667 194755.43      ]\n",
      "25987428005.283955\n",
      "RMSE : 161206.16615155872\n",
      "R2_score : 0.8102645545681287\n"
     ]
    },
    {
     "data": {
      "image/png": "[encoded data removed]",
      "text/plain": [
       "<Figure size 432x288 with 1 Axes>"
      ]
     },
     "metadata": {
      "needs_background": "light"
     },
     "output_type": "display_data"
    }
   ],
   "source": [
    "#selected features based on correlation of different data with prices for which corr value is above 30%\n",
    "\n",
    "features = [ 'sqft_living', 'grade', 'sqft_above', 'sqft_living15','bathrooms','view', 'sqft_basement', 'bedrooms', 'lat']\n",
    "\n",
    "x_train,x_test,y_train,y_test = train_test_split(df[features],df[['price']],test_size = 0.20,shuffle = True)\n",
    "\n",
    "rf = RandomForestRegressor(n_estimators = 1000, random_state = 42)\n",
    "\n",
    "rf.fit(x_train,y_train)\n",
    "\n",
    "#print('intercept :',rf.intercept_)\n",
    "\n",
    "#print('coefficient :',rf.coef_)\n",
    "\n",
    "print('score :',rf.score(x_test,y_test))\n",
    "\n",
    "y_pred = rf.predict(x_test)\n",
    "\n",
    "print('predicted_value :',y_pred)\n",
    "\n",
    "MSE = mse(y_test , y_pred)\n",
    "\n",
    "print(MSE)\n",
    "\n",
    "print('RMSE :',sqrt(MSE))\n",
    "\n",
    "print('R2_score :',r2_score(y_test,y_pred))\n",
    "\n",
    "plt.scatter(x = x_test['sqft_living'] , y = y_test)\n",
    "\n",
    "plt.scatter(x = x_test['sqft_living'], y = y_pred)\n",
    "\n",
    "plt.show()\n"
   ]
  },
  {
   "cell_type": "code",
   "execution_count": null,
   "metadata": {},
   "outputs": [],
   "source": []
  },
  {
   "cell_type": "code",
   "execution_count": 44,
   "metadata": {},
   "outputs": [],
   "source": [
    "#Random Forest ALgorithm\n",
    "\n",
    "#Preddicting Model - 2"
   ]
  },
  {
   "cell_type": "code",
   "execution_count": 45,
   "metadata": {},
   "outputs": [
    {
     "name": "stdout",
     "output_type": "stream",
     "text": [
      "score : 0.7890039922614402\n",
      "predicted_value : [449073.7535     676477.34       531463.5        ... 971369.79\n",
      " 420310.67883333 554993.339     ]\n",
      "MSE : 28871159685.30032\n",
      "RMSE : 169915.1543721169\n",
      "R2_score : 0.7890039922614402\n"
     ]
    },
    {
     "data": {
      "image/png": "[encoded data removed]",
      "text/plain": [
       "<Figure size 432x288 with 1 Axes>"
      ]
     },
     "metadata": {
      "needs_background": "light"
     },
     "output_type": "display_data"
    }
   ],
   "source": [
    "#selected features based on correlation of different data with prices for which corr value is below 30%\n",
    "\n",
    "features = ['view', 'sqft_basement', 'bedrooms', 'lat','waterfront','floors', 'yr_renovated', 'sqft_lot', 'sqft_lot15', 'yr_built','condition', 'long', 'id', 'zipcode']\n",
    "\n",
    "x_train,x_test,y_train,y_test = train_test_split(df[features],df['price'],test_size = 0.20,shuffle = True)\n",
    "\n",
    "rf = RandomForestRegressor(n_estimators = 1000, random_state = 42)\n",
    "\n",
    "rf.fit(x_train,y_train)\n",
    "\n",
    "#print('intercept :',rf.intercept_)\n",
    "\n",
    "#print('coefficient :',rf.coef_)\n",
    "\n",
    "print('score :',rf.score(x_test,y_test))\n",
    "\n",
    "y_pred = rf.predict(x_test)\n",
    "\n",
    "print('predicted_value :',y_pred)\n",
    "\n",
    "MSE = mse(y_test,y_pred)\n",
    "\n",
    "print('MSE :',MSE)\n",
    "\n",
    "print('RMSE :',sqrt(MSE))\n",
    "\n",
    "print('R2_score :',r2_score(y_test,y_pred))\n",
    "\n",
    "plt.scatter(x = x_test['waterfront'] , y = y_test)\n",
    "\n",
    "plt.scatter(x = x_test['waterfront'] , y = y_pred)\n",
    "\n",
    "plt.show()\n",
    "      "
   ]
  },
  {
   "cell_type": "code",
   "execution_count": null,
   "metadata": {},
   "outputs": [],
   "source": []
  },
  {
   "cell_type": "code",
   "execution_count": 46,
   "metadata": {},
   "outputs": [],
   "source": [
    "#Random Forest Algorithm \n",
    "\n",
    "#Predicting Model - 3"
   ]
  },
  {
   "cell_type": "code",
   "execution_count": 47,
   "metadata": {},
   "outputs": [
    {
     "name": "stdout",
     "output_type": "stream",
     "text": [
      "score : 0.8829590282019839\n",
      "predicted_value : [350571.178      430883.024      564321.065      ... 600391.506\n",
      " 279917.18833333 502502.39466667]\n",
      "MSE : 15297435662.84082\n",
      "RMSE : 123682.80261556503\n",
      "R2_score : 0.8829590282019839\n"
     ]
    },
    {
     "data": {
      "image/png": "[encoded data removed]",
      "text/plain": [
       "<Figure size 432x288 with 1 Axes>"
      ]
     },
     "metadata": {
      "needs_background": "light"
     },
     "output_type": "display_data"
    }
   ],
   "source": [
    "#selected all features to find maximum score_value(Accurarcy)\n",
    "\n",
    "features = ['sqft_living', 'grade', 'sqft_above', 'sqft_living15',\n",
    "       'bathrooms', 'view', 'sqft_basement', 'bedrooms', 'lat', 'waterfront',\n",
    "       'floors', 'yr_renovated', 'sqft_lot', 'sqft_lot15', 'yr_built',\n",
    "       'condition', 'long', 'id', 'zipcode']\n",
    "\n",
    "x_train,x_test,y_train,y_test = train_test_split(df[features],df['price'],test_size = 0.20,shuffle = True)\n",
    "\n",
    "rf = RandomForestRegressor(n_estimators = 1000, random_state = 42)\n",
    "\n",
    "rf.fit(x_train,y_train)\n",
    "\n",
    "#print('intercept :',rf.intercept_)\n",
    "\n",
    "#print('coefficient :',rf.coef_)\n",
    "\n",
    "print('score :',rf.score(x_test,y_test))\n",
    "\n",
    "y_pred = rf.predict(x_test)\n",
    "\n",
    "print('predicted_value :',y_pred)\n",
    "\n",
    "MSE = mse(y_test,y_pred)\n",
    "\n",
    "print('MSE :',MSE)\n",
    "\n",
    "print('RMSE :',sqrt(MSE))\n",
    "\n",
    "print('R2_score :',r2_score(y_test,y_pred))\n",
    "\n",
    "plt.scatter(x = x_test['sqft_living'] , y = y_test)\n",
    "\n",
    "plt.scatter(x = x_test['sqft_living'] , y = y_pred)\n",
    "\n",
    "plt.show()\n",
    "      "
   ]
  },
  {
   "cell_type": "code",
   "execution_count": null,
   "metadata": {},
   "outputs": [],
   "source": []
  },
  {
   "cell_type": "code",
   "execution_count": 48,
   "metadata": {},
   "outputs": [
    {
     "data": {
      "text/html": [
       "<div>\n",
       "<style scoped>\n",
       "    .dataframe tbody tr th:only-of-type {\n",
       "        vertical-align: middle;\n",
       "    }\n",
       "\n",
       "    .dataframe tbody tr th {\n",
       "        vertical-align: top;\n",
       "    }\n",
       "\n",
       "    .dataframe thead th {\n",
       "        text-align: right;\n",
       "    }\n",
       "</style>\n",
       "<table border=\"1\" class=\"dataframe\">\n",
       "  <thead>\n",
       "    <tr style=\"text-align: right;\">\n",
       "      <th></th>\n",
       "      <th>Score(Accurarcy)</th>\n",
       "      <th>MSE</th>\n",
       "      <th>RMSE</th>\n",
       "      <th>R2_Score</th>\n",
       "    </tr>\n",
       "  </thead>\n",
       "  <tbody>\n",
       "    <tr>\n",
       "      <th>Multi LinearRegression</th>\n",
       "      <td>0.614713</td>\n",
       "      <td>5.372322e+10</td>\n",
       "      <td>2.317827e+05</td>\n",
       "      <td>0.614714</td>\n",
       "    </tr>\n",
       "    <tr>\n",
       "      <th>LassoRegression</th>\n",
       "      <td>0.634076</td>\n",
       "      <td>4.958516e+10</td>\n",
       "      <td>2.226777e+06</td>\n",
       "      <td>0.607209</td>\n",
       "    </tr>\n",
       "    <tr>\n",
       "      <th>RidgeRegression</th>\n",
       "      <td>0.587280</td>\n",
       "      <td>5.463071e+10</td>\n",
       "      <td>2.337321e+05</td>\n",
       "      <td>0.582401</td>\n",
       "    </tr>\n",
       "    <tr>\n",
       "      <th>Polynomial Regression</th>\n",
       "      <td>0.805421</td>\n",
       "      <td>3.066762e+10</td>\n",
       "      <td>1.751217e+05</td>\n",
       "      <td>0.805421</td>\n",
       "    </tr>\n",
       "    <tr>\n",
       "      <th>DecisionTree</th>\n",
       "      <td>0.624900</td>\n",
       "      <td>5.563881e+10</td>\n",
       "      <td>2.358788e+05</td>\n",
       "      <td>0.525848</td>\n",
       "    </tr>\n",
       "    <tr>\n",
       "      <th>KNN</th>\n",
       "      <td>0.399029</td>\n",
       "      <td>7.088292e+10</td>\n",
       "      <td>2.662385e+05</td>\n",
       "      <td>0.447793</td>\n",
       "    </tr>\n",
       "    <tr>\n",
       "      <th>RandomForest</th>\n",
       "      <td>0.800343</td>\n",
       "      <td>7.629541e+10</td>\n",
       "      <td>2.762162e+05</td>\n",
       "      <td>0.473591</td>\n",
       "    </tr>\n",
       "  </tbody>\n",
       "</table>\n",
       "</div>"
      ],
      "text/plain": [
       "                        Score(Accurarcy)           MSE          RMSE  R2_Score\n",
       "Multi LinearRegression          0.614713  5.372322e+10  2.317827e+05  0.614714\n",
       "LassoRegression                 0.634076  4.958516e+10  2.226777e+06  0.607209\n",
       "RidgeRegression                 0.587280  5.463071e+10  2.337321e+05  0.582401\n",
       "Polynomial Regression           0.805421  3.066762e+10  1.751217e+05  0.805421\n",
       "DecisionTree                    0.624900  5.563881e+10  2.358788e+05  0.525848\n",
       "KNN                             0.399029  7.088292e+10  2.662385e+05  0.447793\n",
       "RandomForest                    0.800343  7.629541e+10  2.762162e+05  0.473591"
      ]
     },
     "execution_count": 48,
     "metadata": {},
     "output_type": "execute_result"
    }
   ],
   "source": [
    "#selected features based on correlation of different data with prices for which corr value is above 30%\n",
    "\n",
    "df = {'Score(Accurarcy)':[0.614713,0.634076,0.58728,0.8054212,0.624900,0.3990286,0.800343],\n",
    "      'MSE':[53723220510.556854,49585162257.67463,54630709938.33841,30667616090.1828,55638806133.4993,70882920360.99797,76295409639.09573],\n",
    "     'RMSE':[231782.701059,2226777.260306,233732.132875089,175121.7179,235878.79542,266238.465216,276216.237102],\n",
    "     'R2_Score':[0.6147138,0.607209,0.582401,0.8054212,0.525848,0.4477927,0.473591]}\n",
    "\n",
    "tabular_columns = pd.DataFrame(df,index = ['Multi LinearRegression','LassoRegression','RidgeRegression','Polynomial Regression','DecisionTree','KNN','RandomForest'])\n",
    "\n",
    "tabular_columns"
   ]
  },
  {
   "cell_type": "code",
   "execution_count": null,
   "metadata": {},
   "outputs": [],
   "source": []
  },
  {
   "cell_type": "code",
   "execution_count": 49,
   "metadata": {},
   "outputs": [
    {
     "data": {
      "text/html": [
       "<div>\n",
       "<style scoped>\n",
       "    .dataframe tbody tr th:only-of-type {\n",
       "        vertical-align: middle;\n",
       "    }\n",
       "\n",
       "    .dataframe tbody tr th {\n",
       "        vertical-align: top;\n",
       "    }\n",
       "\n",
       "    .dataframe thead th {\n",
       "        text-align: right;\n",
       "    }\n",
       "</style>\n",
       "<table border=\"1\" class=\"dataframe\">\n",
       "  <thead>\n",
       "    <tr style=\"text-align: right;\">\n",
       "      <th></th>\n",
       "      <th>Score(Accurarcy)</th>\n",
       "      <th>MSE</th>\n",
       "      <th>RMSE</th>\n",
       "      <th>R2_Score</th>\n",
       "    </tr>\n",
       "  </thead>\n",
       "  <tbody>\n",
       "    <tr>\n",
       "      <th>Multi LinearRegression</th>\n",
       "      <td>0.446240</td>\n",
       "      <td>8.008843e+11</td>\n",
       "      <td>282991.730752</td>\n",
       "      <td>0.446424</td>\n",
       "    </tr>\n",
       "    <tr>\n",
       "      <th>LassoRegression</th>\n",
       "      <td>0.442055</td>\n",
       "      <td>8.693217e+10</td>\n",
       "      <td>294842.611560</td>\n",
       "      <td>0.442055</td>\n",
       "    </tr>\n",
       "    <tr>\n",
       "      <th>RidgeRegression</th>\n",
       "      <td>0.374787</td>\n",
       "      <td>7.105481e+10</td>\n",
       "      <td>266561.077130</td>\n",
       "      <td>0.374787</td>\n",
       "    </tr>\n",
       "    <tr>\n",
       "      <th>Polynomial Regression</th>\n",
       "      <td>0.141073</td>\n",
       "      <td>1.293861e+11</td>\n",
       "      <td>242393.598704</td>\n",
       "      <td>0.141073</td>\n",
       "    </tr>\n",
       "    <tr>\n",
       "      <th>DecisionTree</th>\n",
       "      <td>0.549232</td>\n",
       "      <td>5.875466e+10</td>\n",
       "      <td>359702.789030</td>\n",
       "      <td>0.549232</td>\n",
       "    </tr>\n",
       "    <tr>\n",
       "      <th>KNN</th>\n",
       "      <td>0.352832</td>\n",
       "      <td>9.546093e+10</td>\n",
       "      <td>308967.521487</td>\n",
       "      <td>0.352832</td>\n",
       "    </tr>\n",
       "    <tr>\n",
       "      <th>RandomForest</th>\n",
       "      <td>0.757698</td>\n",
       "      <td>3.102653e+10</td>\n",
       "      <td>176143.485069</td>\n",
       "      <td>0.757698</td>\n",
       "    </tr>\n",
       "  </tbody>\n",
       "</table>\n",
       "</div>"
      ],
      "text/plain": [
       "                        Score(Accurarcy)           MSE           RMSE  \\\n",
       "Multi LinearRegression          0.446240  8.008843e+11  282991.730752   \n",
       "LassoRegression                 0.442055  8.693217e+10  294842.611560   \n",
       "RidgeRegression                 0.374787  7.105481e+10  266561.077130   \n",
       "Polynomial Regression           0.141073  1.293861e+11  242393.598704   \n",
       "DecisionTree                    0.549232  5.875466e+10  359702.789030   \n",
       "KNN                             0.352832  9.546093e+10  308967.521487   \n",
       "RandomForest                    0.757698  3.102653e+10  176143.485069   \n",
       "\n",
       "                        R2_Score  \n",
       "Multi LinearRegression  0.446424  \n",
       "LassoRegression         0.442055  \n",
       "RidgeRegression         0.374787  \n",
       "Polynomial Regression   0.141073  \n",
       "DecisionTree            0.549232  \n",
       "KNN                     0.352832  \n",
       "RandomForest            0.757698  "
      ]
     },
     "execution_count": 49,
     "metadata": {},
     "output_type": "execute_result"
    }
   ],
   "source": [
    "#selected features based on correlation of different data with prices for which corr value is below 30%\n",
    "\n",
    "df = {'Score(Accurarcy)':[0.446240,0.442055,0.374787,0.1410729,0.549232,0.352832,0.757698],\n",
    "     'MSE':[800884319674.01427,86932165591.86632,71054807845.94592,129386096436.02902,58754656722.18002,95460929334.0827,31026527332.387535],\n",
    "     'RMSE':[282991.730752,294842.61156,266561.07713,242393.598704,359702.78903,308967.521487,176143.485069],\n",
    "     'R2_Score':[0.446424,0.442055,0.374787,0.1410729,0.549232,0.352832,0.757698]}\n",
    "\n",
    "tabular_columns = pd.DataFrame(df,index = ['Multi LinearRegression','LassoRegression','RidgeRegression','Polynomial Regression','DecisionTree','KNN','RandomForest'])\n",
    "\n",
    "tabular_columns"
   ]
  },
  {
   "cell_type": "code",
   "execution_count": null,
   "metadata": {},
   "outputs": [],
   "source": []
  },
  {
   "cell_type": "code",
   "execution_count": 50,
   "metadata": {},
   "outputs": [
    {
     "data": {
      "text/html": [
       "<div>\n",
       "<style scoped>\n",
       "    .dataframe tbody tr th:only-of-type {\n",
       "        vertical-align: middle;\n",
       "    }\n",
       "\n",
       "    .dataframe tbody tr th {\n",
       "        vertical-align: top;\n",
       "    }\n",
       "\n",
       "    .dataframe thead th {\n",
       "        text-align: right;\n",
       "    }\n",
       "</style>\n",
       "<table border=\"1\" class=\"dataframe\">\n",
       "  <thead>\n",
       "    <tr style=\"text-align: right;\">\n",
       "      <th></th>\n",
       "      <th>Score(Accruarcy)</th>\n",
       "      <th>MSE</th>\n",
       "      <th>RMSE</th>\n",
       "      <th>R2_Score</th>\n",
       "    </tr>\n",
       "  </thead>\n",
       "  <tbody>\n",
       "    <tr>\n",
       "      <th>Multi LinearRegression</th>\n",
       "      <td>0.704750</td>\n",
       "      <td>3.848573e+10</td>\n",
       "      <td>196177.814509</td>\n",
       "      <td>0.704750</td>\n",
       "    </tr>\n",
       "    <tr>\n",
       "      <th>LassoRegression</th>\n",
       "      <td>0.705713</td>\n",
       "      <td>3.887779e+10</td>\n",
       "      <td>197171.522010</td>\n",
       "      <td>0.705713</td>\n",
       "    </tr>\n",
       "    <tr>\n",
       "      <th>RidgeRegression</th>\n",
       "      <td>0.622769</td>\n",
       "      <td>4.079163e+10</td>\n",
       "      <td>235471.554557</td>\n",
       "      <td>0.622769</td>\n",
       "    </tr>\n",
       "    <tr>\n",
       "      <th>Polynomial Regression</th>\n",
       "      <td>0.733577</td>\n",
       "      <td>3.400129e+10</td>\n",
       "      <td>184394.398400</td>\n",
       "      <td>0.733580</td>\n",
       "    </tr>\n",
       "    <tr>\n",
       "      <th>DecisionTree</th>\n",
       "      <td>0.716440</td>\n",
       "      <td>2.956143e+10</td>\n",
       "      <td>193253.143490</td>\n",
       "      <td>0.716440</td>\n",
       "    </tr>\n",
       "    <tr>\n",
       "      <th>KNN</th>\n",
       "      <td>0.364693</td>\n",
       "      <td>9.851944e+10</td>\n",
       "      <td>313878.069300</td>\n",
       "      <td>0.364649</td>\n",
       "    </tr>\n",
       "    <tr>\n",
       "      <th>RandomForest</th>\n",
       "      <td>0.877208</td>\n",
       "      <td>1.816659e+10</td>\n",
       "      <td>134783.506824</td>\n",
       "      <td>0.877208</td>\n",
       "    </tr>\n",
       "  </tbody>\n",
       "</table>\n",
       "</div>"
      ],
      "text/plain": [
       "                        Score(Accruarcy)           MSE           RMSE  \\\n",
       "Multi LinearRegression          0.704750  3.848573e+10  196177.814509   \n",
       "LassoRegression                 0.705713  3.887779e+10  197171.522010   \n",
       "RidgeRegression                 0.622769  4.079163e+10  235471.554557   \n",
       "Polynomial Regression           0.733577  3.400129e+10  184394.398400   \n",
       "DecisionTree                    0.716440  2.956143e+10  193253.143490   \n",
       "KNN                             0.364693  9.851944e+10  313878.069300   \n",
       "RandomForest                    0.877208  1.816659e+10  134783.506824   \n",
       "\n",
       "                        R2_Score  \n",
       "Multi LinearRegression  0.704750  \n",
       "LassoRegression         0.705713  \n",
       "RidgeRegression         0.622769  \n",
       "Polynomial Regression   0.733580  \n",
       "DecisionTree            0.716440  \n",
       "KNN                     0.364649  \n",
       "RandomForest            0.877208  "
      ]
     },
     "execution_count": 50,
     "metadata": {},
     "output_type": "execute_result"
    }
   ],
   "source": [
    "#selected all features to find maximum score_value(Accurarcy)\n",
    "\n",
    "df = {'Score(Accruarcy)':[0.7047502,0.705713,0.622769,0.7335769,0.7164402,0.364693,0.877208],\n",
    "     'MSE':[38485734905.8983,38877792132.0693,40791625772.69038,34001294191.5747,29561431904.85068,98519442596.76712,18166593711.779396],\n",
    "     'RMSE':[196177.814509,197171.52201,235471.554557,184394.3984,193253.14349,313878.0693,134783.506824],\n",
    "     'R2_Score':[0.704750,0.705713,0.622769,0.7335796,0.7164402,0.364649,0.877208]}\n",
    "      \n",
    "tabular_columns = pd.DataFrame(df,index = ['Multi LinearRegression','LassoRegression','RidgeRegression','Polynomial Regression','DecisionTree','KNN','RandomForest'])\n",
    "\n",
    "tabular_columns"
   ]
  },
  {
   "cell_type": "code",
   "execution_count": null,
   "metadata": {},
   "outputs": [],
   "source": []
  },
  {
   "cell_type": "code",
   "execution_count": null,
   "metadata": {},
   "outputs": [],
   "source": []
  }
 ],
 "metadata": {
  "kernelspec": {
   "display_name": "Python 3",
   "language": "python",
   "name": "python3"
  },
  "language_info": {
   "codemirror_mode": {
    "name": "ipython",
    "version": 3
   },
   "file_extension": ".py",
   "mimetype": "text/x-python",
   "name": "python",
   "nbconvert_exporter": "python",
   "pygments_lexer": "ipython3",
   "version": "3.7.3"
  }
 },
 "nbformat": 4,
 "nbformat_minor": 2
}
