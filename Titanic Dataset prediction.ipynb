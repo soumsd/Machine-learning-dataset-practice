{
 "cells": [
  {
   "cell_type": "code",
   "execution_count": 1,
   "metadata": {},
   "outputs": [],
   "source": [
    "import pandas as pd\n",
    "import numpy as np\n",
    "import matplotlib.pyplot as plt\n",
    "from sklearn.linear_model import LogisticRegression\n",
    "from sklearn.ensemble import RandomForestClassifier\n",
    "from sklearn.linear_model import SGDClassifier\n",
    "from sklearn.tree import DecisionTreeClassifier\n",
    "from sklearn.neighbors import KNeighborsClassifier\n",
    "from sklearn.naive_bayes import GaussianNB\n",
    "from sklearn.preprocessing import StandardScaler,MinMaxScaler\n",
    "from sklearn.metrics import accuracy_score, classification_report\n",
    "from sklearn.metrics import precision_recall_fscore_support\n",
    "from sklearn.metrics import f1_score\n",
    "from sklearn import metrics\n",
    "import seaborn as sns"
   ]
  },
  {
   "cell_type": "code",
   "execution_count": null,
   "metadata": {},
   "outputs": [],
   "source": []
  },
  {
   "cell_type": "code",
   "execution_count": 2,
   "metadata": {},
   "outputs": [],
   "source": [
    "train_df = pd.read_csv(r\"C:\\Users\\user\\Downloads\\titanic\\train.csv\")\n",
    "test_df = pd.read_csv(r\"C:\\Users\\user\\Downloads\\titanic\\test.csv\")"
   ]
  },
  {
   "cell_type": "code",
   "execution_count": 3,
   "metadata": {},
   "outputs": [
    {
     "name": "stdout",
     "output_type": "stream",
     "text": [
      "<class 'pandas.core.frame.DataFrame'>\n",
      "RangeIndex: 891 entries, 0 to 890\n",
      "Data columns (total 12 columns):\n",
      "PassengerId    891 non-null int64\n",
      "Survived       891 non-null int64\n",
      "Pclass         891 non-null int64\n",
      "Name           891 non-null object\n",
      "Sex            891 non-null object\n",
      "Age            714 non-null float64\n",
      "SibSp          891 non-null int64\n",
      "Parch          891 non-null int64\n",
      "Ticket         891 non-null object\n",
      "Fare           891 non-null float64\n",
      "Cabin          204 non-null object\n",
      "Embarked       889 non-null object\n",
      "dtypes: float64(2), int64(5), object(5)\n",
      "memory usage: 83.6+ KB\n",
      "None\n",
      "<class 'pandas.core.frame.DataFrame'>\n",
      "RangeIndex: 418 entries, 0 to 417\n",
      "Data columns (total 11 columns):\n",
      "PassengerId    418 non-null int64\n",
      "Pclass         418 non-null int64\n",
      "Name           418 non-null object\n",
      "Sex            418 non-null object\n",
      "Age            332 non-null float64\n",
      "SibSp          418 non-null int64\n",
      "Parch          418 non-null int64\n",
      "Ticket         418 non-null object\n",
      "Fare           417 non-null float64\n",
      "Cabin          91 non-null object\n",
      "Embarked       418 non-null object\n",
      "dtypes: float64(2), int64(4), object(5)\n",
      "memory usage: 36.0+ KB\n",
      "None\n"
     ]
    }
   ],
   "source": [
    "print(train_df.info())\n",
    "print(test_df.info())"
   ]
  },
  {
   "cell_type": "code",
   "execution_count": 4,
   "metadata": {},
   "outputs": [
    {
     "name": "stdout",
     "output_type": "stream",
     "text": [
      "       PassengerId    Survived      Pclass         Age       SibSp  \\\n",
      "count   891.000000  891.000000  891.000000  714.000000  891.000000   \n",
      "mean    446.000000    0.383838    2.308642   29.699118    0.523008   \n",
      "std     257.353842    0.486592    0.836071   14.526497    1.102743   \n",
      "min       1.000000    0.000000    1.000000    0.420000    0.000000   \n",
      "25%     223.500000    0.000000    2.000000   20.125000    0.000000   \n",
      "50%     446.000000    0.000000    3.000000   28.000000    0.000000   \n",
      "75%     668.500000    1.000000    3.000000   38.000000    1.000000   \n",
      "max     891.000000    1.000000    3.000000   80.000000    8.000000   \n",
      "\n",
      "            Parch        Fare  \n",
      "count  891.000000  891.000000  \n",
      "mean     0.381594   32.204208  \n",
      "std      0.806057   49.693429  \n",
      "min      0.000000    0.000000  \n",
      "25%      0.000000    7.910400  \n",
      "50%      0.000000   14.454200  \n",
      "75%      0.000000   31.000000  \n",
      "max      6.000000  512.329200  \n",
      "--------------------------------------------------\n",
      "       PassengerId      Pclass         Age       SibSp       Parch        Fare\n",
      "count   418.000000  418.000000  332.000000  418.000000  418.000000  417.000000\n",
      "mean   1100.500000    2.265550   30.272590    0.447368    0.392344   35.627188\n",
      "std     120.810458    0.841838   14.181209    0.896760    0.981429   55.907576\n",
      "min     892.000000    1.000000    0.170000    0.000000    0.000000    0.000000\n",
      "25%     996.250000    1.000000   21.000000    0.000000    0.000000    7.895800\n",
      "50%    1100.500000    3.000000   27.000000    0.000000    0.000000   14.454200\n",
      "75%    1204.750000    3.000000   39.000000    1.000000    0.000000   31.500000\n",
      "max    1309.000000    3.000000   76.000000    8.000000    9.000000  512.329200\n"
     ]
    }
   ],
   "source": [
    "print(train_df.describe())\n",
    "print('-'*50)\n",
    "print(test_df.describe())"
   ]
  },
  {
   "cell_type": "code",
   "execution_count": 5,
   "metadata": {},
   "outputs": [
    {
     "name": "stdout",
     "output_type": "stream",
     "text": [
      "PassengerId      0\n",
      "Survived         0\n",
      "Pclass           0\n",
      "Name             0\n",
      "Sex              0\n",
      "Age            177\n",
      "SibSp            0\n",
      "Parch            0\n",
      "Ticket           0\n",
      "Fare             0\n",
      "Cabin          687\n",
      "Embarked         2\n",
      "dtype: int64\n",
      "PassengerId      0\n",
      "Pclass           0\n",
      "Name             0\n",
      "Sex              0\n",
      "Age             86\n",
      "SibSp            0\n",
      "Parch            0\n",
      "Ticket           0\n",
      "Fare             1\n",
      "Cabin          327\n",
      "Embarked         0\n",
      "dtype: int64\n"
     ]
    }
   ],
   "source": [
    "print(train_df.isnull().sum())\n",
    "print(test_df.isnull().sum())"
   ]
  },
  {
   "cell_type": "code",
   "execution_count": 6,
   "metadata": {},
   "outputs": [
    {
     "name": "stdout",
     "output_type": "stream",
     "text": [
      "<class 'pandas.core.frame.DataFrame'>\n",
      "RangeIndex: 891 entries, 0 to 890\n",
      "Data columns (total 12 columns):\n",
      "PassengerId    891 non-null int64\n",
      "Survived       891 non-null int64\n",
      "Pclass         891 non-null int64\n",
      "Name           891 non-null object\n",
      "Sex            891 non-null object\n",
      "Age            891 non-null float64\n",
      "SibSp          891 non-null int64\n",
      "Parch          891 non-null int64\n",
      "Ticket         891 non-null object\n",
      "Fare           891 non-null float64\n",
      "Cabin          890 non-null object\n",
      "Embarked       891 non-null object\n",
      "dtypes: float64(2), int64(5), object(5)\n",
      "memory usage: 83.6+ KB\n",
      "None\n",
      "__________________________________________________\n",
      "<class 'pandas.core.frame.DataFrame'>\n",
      "RangeIndex: 418 entries, 0 to 417\n",
      "Data columns (total 11 columns):\n",
      "PassengerId    418 non-null int64\n",
      "Pclass         418 non-null int64\n",
      "Name           418 non-null object\n",
      "Sex            418 non-null object\n",
      "Age            418 non-null float64\n",
      "SibSp          418 non-null int64\n",
      "Parch          418 non-null int64\n",
      "Ticket         418 non-null object\n",
      "Fare           418 non-null float64\n",
      "Cabin          406 non-null object\n",
      "Embarked       418 non-null object\n",
      "dtypes: float64(2), int64(4), object(5)\n",
      "memory usage: 36.0+ KB\n",
      "None\n"
     ]
    }
   ],
   "source": [
    "#To standardize the nan columns in Age feature by replace it by simple arthimetic mean\n",
    "train_df.replace(to_replace=np.nan,value=round(train_df.mean(),0),inplace=True)\n",
    "train_df.fillna(method='pad',inplace=True)\n",
    "test_df.replace(to_replace=np.nan,value=round(test_df.mean(),0),inplace=True)\n",
    "test_df.fillna(method='pad',inplace=True)\n",
    "print(train_df.info())\n",
    "print('_'*50)\n",
    "print(test_df.info())"
   ]
  },
  {
   "cell_type": "code",
   "execution_count": 7,
   "metadata": {},
   "outputs": [
    {
     "name": "stdout",
     "output_type": "stream",
     "text": [
      "['PassengerId' 'Survived' 'Pclass' 'Name' 'Sex' 'Age' 'SibSp' 'Parch'\n",
      " 'Ticket' 'Fare' 'Cabin' 'Embarked']\n",
      "['PassengerId' 'Pclass' 'Name' 'Sex' 'Age' 'SibSp' 'Parch' 'Ticket' 'Fare'\n",
      " 'Cabin' 'Embarked']\n"
     ]
    }
   ],
   "source": [
    "print(train_df.columns.values)\n",
    "print(test_df.columns.values)"
   ]
  },
  {
   "cell_type": "code",
   "execution_count": 8,
   "metadata": {},
   "outputs": [
    {
     "name": "stdout",
     "output_type": "stream",
     "text": [
      "(891, 12)\n",
      "(418, 11)\n"
     ]
    }
   ],
   "source": [
    "print(train_df.shape)\n",
    "print(test_df.shape)"
   ]
  },
  {
   "cell_type": "code",
   "execution_count": 9,
   "metadata": {},
   "outputs": [
    {
     "name": "stdout",
     "output_type": "stream",
     "text": [
      "   PassengerId  Survived  Pclass                     Name  Sex   Age  SibSp  \\\n",
      "0            1         0       3  Braund, Mr. Owen Harris    0  22.0      1   \n",
      "\n",
      "   Parch     Ticket  Fare Cabin Embarked  \n",
      "0      0  A/5 21171  7.25   NaN        S  \n",
      "   PassengerId  Pclass              Name  Sex   Age  SibSp  Parch  Ticket  \\\n",
      "0          892       3  Kelly, Mr. James    0  34.5      0      0  330911   \n",
      "\n",
      "     Fare Cabin Embarked  \n",
      "0  7.8292   NaN        Q  \n"
     ]
    }
   ],
   "source": [
    "train_df = train_df.replace({'male':0,'female':1})\n",
    "test_df = test_df.replace({'male':0,'female':1})\n",
    "print(train_df.head(1))\n",
    "print(test_df.head(1))\n"
   ]
  },
  {
   "cell_type": "code",
   "execution_count": 10,
   "metadata": {},
   "outputs": [],
   "source": [
    "#Survived— Whether the passenger survived or not and the value we are predicting (0=No, 1=Yes)\n",
    "#Pclass— The class of the ticket the passenger purchased (1=1st, 2=2nd, 3=3rd)\n",
    "#Sex— The passenger’s sex\n",
    "#Age— The passenger’s age in years\n",
    "#SibSp— The number of siblings or spouses the passenger had aboard the Titanic\n",
    "#Parch— The number of parents or children the passenger had aboard the Titanic\n",
    "#Ticket— The passenger’s ticket number\n",
    "#Fare— The fare the passenger paid\n",
    "#Cabin— The passenger’s cabin number\n",
    "#Embarked— The port where the passenger embarked (C=Cherbourg, Q=Queenstown, S=Southampton)"
   ]
  },
  {
   "cell_type": "code",
   "execution_count": null,
   "metadata": {},
   "outputs": [],
   "source": []
  },
  {
   "cell_type": "markdown",
   "metadata": {},
   "source": [
    "Analyzing the data how our fetures related to statistical concepts\n",
    "Continuous Variable->Age,Fare\n",
    "Discrete Variable->SibSp,Parch\n",
    "Nominal scale->Sex\n",
    "**Nominal variables are used to 'name' or 'label' a series of values\n",
    "\n",
    "Ordinal scale->Pclass\n",
    "**Ordinal scales provide info about the order of choices\n",
    "\n",
    "Categorial data->Survived,Emarked,Ticket,Cabin\n",
    "#Lets drop "
   ]
  },
  {
   "cell_type": "code",
   "execution_count": 11,
   "metadata": {},
   "outputs": [
    {
     "name": "stdout",
     "output_type": "stream",
     "text": [
      "['Survived' 'Pclass' 'Sex' 'Age' 'SibSp' 'Parch' 'Fare']\n",
      "['Pclass' 'Sex' 'Age' 'SibSp' 'Parch' 'Fare']\n"
     ]
    }
   ],
   "source": [
    "#Lets drop the unwanted columns\n",
    "#since cabin contains maximum of Nan columns so that can be drop \n",
    "remove_unwanted_columns = ['Cabin','Ticket','Name','PassengerId','Embarked']\n",
    "train_df = train_df.drop(remove_unwanted_columns,axis=1)\n",
    "test_df = test_df.drop(remove_unwanted_columns,axis=1)\n",
    "print(train_df.columns.values)\n",
    "print(test_df.columns.values)"
   ]
  },
  {
   "cell_type": "code",
   "execution_count": 12,
   "metadata": {},
   "outputs": [
    {
     "name": "stdout",
     "output_type": "stream",
     "text": [
      "(891, 7)\n",
      "(418, 6)\n"
     ]
    }
   ],
   "source": [
    "print(train_df.shape)\n",
    "print(test_df.shape)"
   ]
  },
  {
   "cell_type": "code",
   "execution_count": 13,
   "metadata": {},
   "outputs": [
    {
     "name": "stdout",
     "output_type": "stream",
     "text": [
      "Pclass:    Pclass  Survived\n",
      "0       1  0.629630\n",
      "1       2  0.472826\n",
      "2       3  0.242363\n",
      "________________________________________\n",
      "Sex:    Sex  Survived\n",
      "1    1  0.742038\n",
      "0    0  0.188908\n",
      "________________________________________\n",
      "SibSp:    SibSp  Survived\n",
      "1      1  0.535885\n",
      "2      2  0.464286\n",
      "0      0  0.345395\n",
      "3      3  0.250000\n",
      "4      4  0.166667\n",
      "5      5  0.000000\n",
      "6      8  0.000000\n",
      "________________________________________\n",
      "Parch:    Parch  Survived\n",
      "3      3  0.600000\n",
      "1      1  0.550847\n",
      "2      2  0.500000\n",
      "0      0  0.343658\n",
      "5      5  0.200000\n",
      "4      4  0.000000\n",
      "6      6  0.000000\n"
     ]
    }
   ],
   "source": [
    "#view of mean 'survived' people on compare with its respected features(Pclass,Sex,SibSp,Parch,Age)\n",
    "print('Pclass:',train_df[['Pclass','Survived']].groupby(['Pclass'],as_index=False).mean().sort_values(by='Survived',ascending=False))\n",
    "print('_'*40)\n",
    "print('Sex:',train_df[['Sex','Survived']].groupby(['Sex'],as_index=False).mean().sort_values(by='Survived',ascending=False))\n",
    "print('_'*40)\n",
    "print('SibSp:',train_df[['SibSp','Survived']].groupby(['SibSp'],as_index=False).mean().sort_values(by='Survived',ascending=False))\n",
    "print('_'*40)\n",
    "print('Parch:',train_df[['Parch','Survived']].groupby(['Parch'],as_index=False).mean().sort_values(by='Survived',ascending=False))"
   ]
  },
  {
   "cell_type": "code",
   "execution_count": null,
   "metadata": {},
   "outputs": [],
   "source": []
  },
  {
   "cell_type": "markdown",
   "metadata": {},
   "source": [
    "# **Data Visualization/Exploration"
   ]
  },
  {
   "cell_type": "code",
   "execution_count": 14,
   "metadata": {},
   "outputs": [
    {
     "data": {
      "text/plain": [
       "<matplotlib.axes._subplots.AxesSubplot at 0x212db9567f0>"
      ]
     },
     "execution_count": 14,
     "metadata": {},
     "output_type": "execute_result"
    },
    {
     "data": {
      "image/png": "[encoded data removed]",
      "text/plain": [
       "<Figure size 432x288 with 2 Axes>"
      ]
     },
     "metadata": {
      "needs_background": "light"
     },
     "output_type": "display_data"
    }
   ],
   "source": [
    "#view of correaltion between features\n",
    "feature_selection = ['Survived','Pclass','Sex','Age','SibSp','Parch','Fare']\n",
    "corr = train_df[feature_selection].corr()\n",
    "sns.heatmap(corr,annot=True,annot_kws={'size':9},linewidths=0.5,xticklabels=feature_selection,\n",
    "           yticklabels=feature_selection,cmap='coolwarm')"
   ]
  },
  {
   "cell_type": "code",
   "execution_count": 15,
   "metadata": {},
   "outputs": [
    {
     "data": {
      "text/plain": [
       "Text(0.5, 0, 'Sex')"
      ]
     },
     "execution_count": 15,
     "metadata": {},
     "output_type": "execute_result"
    },
    {
     "data": {
      "image/png": "[encoded data removed]",
      "text/plain": [
       "<Figure size 1080x576 with 1 Axes>"
      ]
     },
     "metadata": {},
     "output_type": "display_data"
    }
   ],
   "source": [
    "#barplot\n",
    "#Sex vs Survived\n",
    "pal = {0:'green',1:'red'}\n",
    "sns.set(style=\"darkgrid\")\n",
    "plt.subplots(figsize=(15,8))\n",
    "ax = sns.barplot(x='Sex',y='Survived',data=train_df,palette=pal,linewidth=5,order=[0,1],capsize=0.5)\n",
    "plt.title('Sex/Survived',loc='center',pad=40)\n",
    "plt.ylabel('% of passenger Survived')\n",
    "plt.xlabel('Sex')"
   ]
  },
  {
   "cell_type": "code",
   "execution_count": 16,
   "metadata": {},
   "outputs": [
    {
     "data": {
      "text/plain": [
       "Text(0.5, 0, 'Pclass')"
      ]
     },
     "execution_count": 16,
     "metadata": {},
     "output_type": "execute_result"
    },
    {
     "data": {
      "image/png": "[encoded data removed]",
      "text/plain": [
       "<Figure size 1080x720 with 1 Axes>"
      ]
     },
     "metadata": {},
     "output_type": "display_data"
    }
   ],
   "source": [
    "#Pclass vs Survived\n",
    "plt.subplots(figsize=(15,10))\n",
    "ax = sns.barplot(x='Pclass',y='Survived',data=train_df,linewidth=5,capsize=0.1)\n",
    "plt.title('Pclass/Sex',pad=40,loc='center')\n",
    "plt.ylabel('% of passengers Survived')\n",
    "plt.xlabel('Pclass')"
   ]
  },
  {
   "cell_type": "code",
   "execution_count": 17,
   "metadata": {},
   "outputs": [
    {
     "data": {
      "text/plain": [
       "Text(0.5, 0, 'SibSP')"
      ]
     },
     "execution_count": 17,
     "metadata": {},
     "output_type": "execute_result"
    },
    {
     "data": {
      "image/png": "[encoded data removed]",
      "text/plain": [
       "<Figure size 720x1080 with 1 Axes>"
      ]
     },
     "metadata": {},
     "output_type": "display_data"
    }
   ],
   "source": [
    "#SibSP vs Survived\n",
    "sns.set(style='darkgrid')\n",
    "plt.subplots(figsize=(10,15))\n",
    "ax = sns.barplot(x='SibSp',y='Survived',data=train_df,linewidth=5,capsize=0.1)\n",
    "plt.title('SibSp/Survived',loc='center',pad=40)\n",
    "plt.ylabel('% of passengers survived')\n",
    "plt.xlabel('SibSP')"
   ]
  },
  {
   "cell_type": "code",
   "execution_count": 18,
   "metadata": {},
   "outputs": [
    {
     "data": {
      "text/plain": [
       "Text(0.5, 0, 'Parch')"
      ]
     },
     "execution_count": 18,
     "metadata": {},
     "output_type": "execute_result"
    },
    {
     "data": {
      "image/png": "[encoded data removed]",
      "text/plain": [
       "<Figure size 1080x576 with 1 Axes>"
      ]
     },
     "metadata": {},
     "output_type": "display_data"
    }
   ],
   "source": [
    "#Parch vs Survived\n",
    "sns.set(style='darkgrid')\n",
    "plt.subplots(figsize=(15,8))\n",
    "ax = sns.barplot(x='Parch',y='Survived',data=train_df,linewidth=5,capsize=.05)\n",
    "plt.title('Parch/Survived',loc='center',pad=40)\n",
    "plt.ylabel('% of passengers survived')\n",
    "plt.xlabel('Parch')"
   ]
  },
  {
   "cell_type": "code",
   "execution_count": 19,
   "metadata": {},
   "outputs": [
    {
     "data": {
      "text/plain": [
       "Text(0.5, 0, 'Sex')"
      ]
     },
     "execution_count": 19,
     "metadata": {},
     "output_type": "execute_result"
    },
    {
     "data": {
      "image/png": "[encoded data removed]",
      "text/plain": [
       "<Figure size 432x288 with 1 Axes>"
      ]
     },
     "metadata": {},
     "output_type": "display_data"
    }
   ],
   "source": [
    "#Sex vs Survived\n",
    "a = train_df['Sex']\n",
    "b = train_df['Survived']\n",
    "sns.countplot(a,label='count')\n",
    "plt.title('Sex/Survived',loc='center',pad=40)\n",
    "plt.ylabel('passengers Survived')\n",
    "plt.xlabel('Sex')"
   ]
  },
  {
   "cell_type": "code",
   "execution_count": 20,
   "metadata": {},
   "outputs": [
    {
     "data": {
      "text/plain": [
       "Text(0.5, 0, 'Pclass')"
      ]
     },
     "execution_count": 20,
     "metadata": {},
     "output_type": "execute_result"
    },
    {
     "data": {
      "image/png": "[encoded data removed]",
      "text/plain": [
       "<Figure size 432x288 with 1 Axes>"
      ]
     },
     "metadata": {},
     "output_type": "display_data"
    }
   ],
   "source": [
    "#Pclass vs Survived\n",
    "a = train_df['Pclass']\n",
    "b = train_df['Survived']\n",
    "sns.countplot(a,label='count')\n",
    "plt.title('Pclass/Survived',loc='center',pad=40)\n",
    "plt.ylabel('passengers Survived')\n",
    "plt.xlabel('Pclass')"
   ]
  },
  {
   "cell_type": "code",
   "execution_count": 21,
   "metadata": {},
   "outputs": [
    {
     "data": {
      "text/plain": [
       "Text(0.5, 0, 'SibSp')"
      ]
     },
     "execution_count": 21,
     "metadata": {},
     "output_type": "execute_result"
    },
    {
     "data": {
      "image/png": "[encoded data removed]",
      "text/plain": [
       "<Figure size 432x288 with 1 Axes>"
      ]
     },
     "metadata": {},
     "output_type": "display_data"
    }
   ],
   "source": [
    "#SibSp\n",
    "a = train_df['SibSp']\n",
    "b = train_df['Survived']\n",
    "sns.countplot(a,label='count')\n",
    "plt.title('SibSP/Survived')\n",
    "plt.ylabel('passengers survived')\n",
    "plt.xlabel('SibSp')"
   ]
  },
  {
   "cell_type": "code",
   "execution_count": 22,
   "metadata": {},
   "outputs": [
    {
     "data": {
      "text/plain": [
       "Text(0.5, 0, 'Parch')"
      ]
     },
     "execution_count": 22,
     "metadata": {},
     "output_type": "execute_result"
    },
    {
     "data": {
      "image/png": "[encoded data removed]",
      "text/plain": [
       "<Figure size 432x288 with 1 Axes>"
      ]
     },
     "metadata": {},
     "output_type": "display_data"
    }
   ],
   "source": [
    "#Parch vs Survived\n",
    "a = train_df['Parch']\n",
    "b = train_df['Survived']\n",
    "sns.countplot(a,label='count')\n",
    "plt.title('Parch/Survived',loc='center',pad=40)\n",
    "plt.ylabel('passengers survived')\n",
    "plt.xlabel('Parch')"
   ]
  },
  {
   "cell_type": "code",
   "execution_count": 23,
   "metadata": {},
   "outputs": [
    {
     "data": {
      "text/plain": [
       "Text(0.5, 1.0, 'Testing_data')"
      ]
     },
     "execution_count": 23,
     "metadata": {},
     "output_type": "execute_result"
    },
    {
     "data": {
      "image/png": "[encoded data removed]",
      "text/plain": [
       "<Figure size 1152x864 with 2 Axes>"
      ]
     },
     "metadata": {},
     "output_type": "display_data"
    }
   ],
   "source": [
    "#outlier Detection\n",
    "sns.set_style('darkgrid')\n",
    "fig,ax = plt.subplots(figsize=(16,12),ncols=2)\n",
    "ax1 = sns.boxplot(x='Parch',y='Fare',hue='Pclass',data=train_df,ax=ax[0]);\n",
    "ax2 = sns.boxplot(x='Parch',y='Fare',hue='Pclass',data=test_df,ax=ax[1]);\n",
    "ax1.set_title('Training_data',fontsize=18)\n",
    "ax2.set_title('Testing_data',fontsize=18)"
   ]
  },
  {
   "cell_type": "code",
   "execution_count": 24,
   "metadata": {},
   "outputs": [],
   "source": [
    "#let\n",
    "X_train = train_df.iloc[:,1:7]\n",
    "Y_train = train_df.iloc[:,0]\n",
    "\n",
    "X_test = test_df.iloc[:,]\n",
    "  \n",
    "Y_test = pd.read_csv(r\"C:\\Users\\user\\Downloads\\titanic\\gender_submission.csv\")    "
   ]
  },
  {
   "cell_type": "code",
   "execution_count": 25,
   "metadata": {},
   "outputs": [
    {
     "name": "stdout",
     "output_type": "stream",
     "text": [
      "scaled_train: [[1.         0.         0.27117366 0.125      0.         0.01415106]\n",
      " [0.         1.         0.4722292  0.125      0.         0.13913574]\n",
      " [1.         1.         0.32143755 0.         0.         0.01546857]\n",
      " ...\n",
      " [1.         1.         0.37170143 0.125      0.33333333 0.04577135]\n",
      " [0.         0.         0.32143755 0.         0.         0.0585561 ]\n",
      " [1.         0.         0.39683338 0.         0.         0.01512699]]\n",
      "__________________________________________________________________________________________\n",
      "scaled_test: [[1.         0.         0.4527232  0.         0.         0.01528158]\n",
      " [1.         1.         0.61756561 0.125      0.         0.01366309]\n",
      " [0.5        0.         0.8153765  0.         0.         0.01890874]\n",
      " ...\n",
      " [1.         0.         0.50547277 0.         0.         0.01415106]\n",
      " [1.         0.         0.39337993 0.         0.         0.01571255]\n",
      " [1.         0.         0.39337993 0.125      0.11111111 0.0436405 ]]\n"
     ]
    },
    {
     "name": "stderr",
     "output_type": "stream",
     "text": [
      "C:\\Users\\user\\Anaconda3\\lib\\site-packages\\sklearn\\preprocessing\\data.py:334: DataConversionWarning: Data with input dtype int64, float64 were all converted to float64 by MinMaxScaler.\n",
      "  return self.partial_fit(X, y)\n",
      "C:\\Users\\user\\Anaconda3\\lib\\site-packages\\sklearn\\preprocessing\\data.py:334: DataConversionWarning: Data with input dtype int64, float64 were all converted to float64 by MinMaxScaler.\n",
      "  return self.partial_fit(X, y)\n"
     ]
    }
   ],
   "source": [
    "#MinMaxscaler to normalize the value between 0 and 1\n",
    "scale = MinMaxScaler(feature_range=(0,1))\n",
    "scaled_train = scale.fit_transform(X_train)\n",
    "print('scaled_train:',scaled_train)\n",
    "print('_'*90)\n",
    "#Do similar for Test set\n",
    "scale = MinMaxScaler(feature_range=(0,1))\n",
    "scaled_test =  scale.fit_transform(X_test)\n",
    "print('scaled_test:',scaled_test)"
   ]
  },
  {
   "cell_type": "code",
   "execution_count": 26,
   "metadata": {},
   "outputs": [
    {
     "name": "stderr",
     "output_type": "stream",
     "text": [
      "C:\\Users\\user\\Anaconda3\\lib\\site-packages\\sklearn\\linear_model\\logistic.py:433: FutureWarning: Default solver will be changed to 'lbfgs' in 0.22. Specify a solver to silence this warning.\n",
      "  FutureWarning)\n"
     ]
    },
    {
     "name": "stdout",
     "output_type": "stream",
     "text": [
      "65.55023923444976\n",
      "****************************************\n",
      "              precision    recall  f1-score   support\n",
      "\n",
      "           0       0.66      0.92      0.77       266\n",
      "           1       0.58      0.18      0.28       152\n",
      "\n",
      "   micro avg       0.66      0.66      0.66       418\n",
      "   macro avg       0.62      0.55      0.53       418\n",
      "weighted avg       0.64      0.66      0.59       418\n",
      "\n",
      "cnf_matrix: [[246  20]\n",
      " [124  28]]\n"
     ]
    },
    {
     "data": {
      "text/plain": [
       "<matplotlib.axes._subplots.AxesSubplot at 0x212dc93e518>"
      ]
     },
     "execution_count": 26,
     "metadata": {},
     "output_type": "execute_result"
    },
    {
     "data": {
      "image/png": "[encoded data removed]",
      "text/plain": [
       "<Figure size 432x288 with 2 Axes>"
      ]
     },
     "metadata": {},
     "output_type": "display_data"
    }
   ],
   "source": [
    "#Now implement the Machine Learning Algorithm ot predict the values and find accuracy\n",
    "#LogisticRegression\n",
    "lo_reg = LogisticRegression()\n",
    "lo_reg.fit(scaled_train,Y_train)\n",
    "Y_pred = lo_reg.predict(X_test)\n",
    "#print(Y_pred)\n",
    "Acc_lo_reg = metrics.accuracy_score(Y_test['Survived'], Y_pred) * 100\n",
    "print(Acc_lo_reg)\n",
    "print('*'*40)\n",
    "#Confusion matrix\n",
    "print(classification_report(Y_test['Survived'],Y_pred))\n",
    "cnf_matrix = metrics.confusion_matrix(Y_test['Survived'],Y_pred)\n",
    "print('cnf_matrix:',cnf_matrix)\n",
    "sns.heatmap(cnf_matrix,annot=True,fmt='d')"
   ]
  },
  {
   "cell_type": "code",
   "execution_count": null,
   "metadata": {},
   "outputs": [],
   "source": []
  },
  {
   "cell_type": "code",
   "execution_count": 27,
   "metadata": {},
   "outputs": [
    {
     "name": "stdout",
     "output_type": "stream",
     "text": [
      "87.5598086124402\n",
      "****************************************\n",
      "              precision    recall  f1-score   support\n",
      "\n",
      "           0       0.84      1.00      0.91       266\n",
      "           1       1.00      0.66      0.79       152\n",
      "\n",
      "   micro avg       0.88      0.88      0.88       418\n",
      "   macro avg       0.92      0.83      0.85       418\n",
      "weighted avg       0.90      0.88      0.87       418\n",
      "\n",
      "cnf_matrix: [[266   0]\n",
      " [ 52 100]]\n"
     ]
    },
    {
     "data": {
      "text/plain": [
       "<matplotlib.axes._subplots.AxesSubplot at 0x212dc9c4be0>"
      ]
     },
     "execution_count": 27,
     "metadata": {},
     "output_type": "execute_result"
    },
    {
     "data": {
      "image/png": "[encoded data removed]",
      "text/plain": [
       "<Figure size 432x288 with 2 Axes>"
      ]
     },
     "metadata": {},
     "output_type": "display_data"
    }
   ],
   "source": [
    "#DecisionTreeClassifier\n",
    "clf_tree = DecisionTreeClassifier()\n",
    "clf_tree.fit(scaled_train,Y_train)\n",
    "Y_pred = clf_tree.predict(X_test)\n",
    "Acc_clf_tree = accuracy_score(Y_test['Survived'],Y_pred)*100\n",
    "print(Acc_clf_tree)\n",
    "print('*'*40)\n",
    "print(classification_report(Y_test['Survived'],Y_pred))\n",
    "cnf_matrix = metrics.confusion_matrix(Y_test['Survived'],Y_pred)\n",
    "print('cnf_matrix:',cnf_matrix)\n",
    "sns.heatmap(cnf_matrix,annot=True,fmt='d')"
   ]
  },
  {
   "cell_type": "code",
   "execution_count": null,
   "metadata": {},
   "outputs": [],
   "source": []
  },
  {
   "cell_type": "code",
   "execution_count": 28,
   "metadata": {},
   "outputs": [
    {
     "name": "stdout",
     "output_type": "stream",
     "text": [
      "58.85167464114832\n",
      "****************************************\n",
      "              precision    recall  f1-score   support\n",
      "\n",
      "           0       0.72      0.57      0.64       266\n",
      "           1       0.45      0.62      0.52       152\n",
      "\n",
      "   micro avg       0.59      0.59      0.59       418\n",
      "   macro avg       0.59      0.59      0.58       418\n",
      "weighted avg       0.62      0.59      0.60       418\n",
      "\n",
      "cnf_matrix: [[152 114]\n",
      " [ 58  94]]\n"
     ]
    },
    {
     "data": {
      "text/plain": [
       "<matplotlib.axes._subplots.AxesSubplot at 0x212dca5f278>"
      ]
     },
     "execution_count": 28,
     "metadata": {},
     "output_type": "execute_result"
    },
    {
     "data": {
      "image/png": "[encoded data removed]",
      "text/plain": [
       "<Figure size 432x288 with 2 Axes>"
      ]
     },
     "metadata": {},
     "output_type": "display_data"
    }
   ],
   "source": [
    "#KNeighborsclassifier\n",
    "clf_knn = KNeighborsClassifier()\n",
    "clf_knn.fit(scaled_train,Y_train)\n",
    "Y_pred = clf_knn.predict(X_test)\n",
    "Acc_clf_knn = accuracy_score(Y_test['Survived'],Y_pred)*100\n",
    "print(Acc_clf_knn)\n",
    "print('*'*40)\n",
    "print(classification_report(Y_test['Survived'],Y_pred))\n",
    "cnf_matrix = metrics.confusion_matrix(Y_test['Survived'],Y_pred)\n",
    "print('cnf_matrix:',cnf_matrix)\n",
    "sns.heatmap(cnf_matrix,annot=True,fmt='d')"
   ]
  },
  {
   "cell_type": "code",
   "execution_count": null,
   "metadata": {},
   "outputs": [],
   "source": []
  },
  {
   "cell_type": "code",
   "execution_count": 29,
   "metadata": {},
   "outputs": [
    {
     "name": "stdout",
     "output_type": "stream",
     "text": [
      "19.85645933014354\n",
      "****************************************\n",
      "              precision    recall  f1-score   support\n",
      "\n",
      "           0       0.35      0.31      0.33       266\n",
      "           1       0.00      0.00      0.00       152\n",
      "\n",
      "   micro avg       0.20      0.20      0.20       418\n",
      "   macro avg       0.18      0.16      0.17       418\n",
      "weighted avg       0.22      0.20      0.21       418\n",
      "\n",
      "cnf_matrix: [[ 83 183]\n",
      " [152   0]]\n"
     ]
    },
    {
     "name": "stderr",
     "output_type": "stream",
     "text": [
      "C:\\Users\\user\\Anaconda3\\lib\\site-packages\\sklearn\\ensemble\\forest.py:246: FutureWarning: The default value of n_estimators will change from 10 in version 0.20 to 100 in 0.22.\n",
      "  \"10 in version 0.20 to 100 in 0.22.\", FutureWarning)\n"
     ]
    },
    {
     "data": {
      "text/plain": [
       "<matplotlib.axes._subplots.AxesSubplot at 0x212dcb10438>"
      ]
     },
     "execution_count": 29,
     "metadata": {},
     "output_type": "execute_result"
    },
    {
     "data": {
      "image/png": "[encoded data removed]",
      "text/plain": [
       "<Figure size 432x288 with 2 Axes>"
      ]
     },
     "metadata": {},
     "output_type": "display_data"
    }
   ],
   "source": [
    "#RandomForestClassfier\n",
    "clf_random = RandomForestClassifier()\n",
    "clf_random.fit(scaled_train,Y_train)\n",
    "Y_pred = clf_random.predict(X_test)\n",
    "Acc_clf_random = accuracy_score(Y_test['Survived'],Y_pred)*100\n",
    "print(Acc_clf_random)\n",
    "print('*'*40)\n",
    "print(classification_report(Y_test['Survived'],Y_pred))\n",
    "cnf_matrix = metrics.confusion_matrix(Y_test['Survived'],Y_pred)\n",
    "print('cnf_matrix:',cnf_matrix)\n",
    "sns.heatmap(cnf_matrix,annot=True,fmt='d')"
   ]
  },
  {
   "cell_type": "code",
   "execution_count": null,
   "metadata": {},
   "outputs": [],
   "source": []
  },
  {
   "cell_type": "code",
   "execution_count": 30,
   "metadata": {},
   "outputs": [
    {
     "name": "stdout",
     "output_type": "stream",
     "text": [
      "34.21052631578947\n",
      "****************************************\n",
      "              precision    recall  f1-score   support\n",
      "\n",
      "           0       0.47      0.28      0.35       266\n",
      "           1       0.26      0.45      0.33       152\n",
      "\n",
      "   micro avg       0.34      0.34      0.34       418\n",
      "   macro avg       0.37      0.36      0.34       418\n",
      "weighted avg       0.40      0.34      0.34       418\n",
      "\n",
      "cnf_matrix: [[ 75 191]\n",
      " [ 84  68]]\n"
     ]
    },
    {
     "name": "stderr",
     "output_type": "stream",
     "text": [
      "C:\\Users\\user\\Anaconda3\\lib\\site-packages\\sklearn\\ensemble\\forest.py:246: FutureWarning: The default value of n_estimators will change from 10 in version 0.20 to 100 in 0.22.\n",
      "  \"10 in version 0.20 to 100 in 0.22.\", FutureWarning)\n"
     ]
    },
    {
     "data": {
      "text/plain": [
       "<matplotlib.axes._subplots.AxesSubplot at 0x212dcb912e8>"
      ]
     },
     "execution_count": 30,
     "metadata": {},
     "output_type": "execute_result"
    },
    {
     "data": {
      "image/png": "[encoded data removed]",
      "text/plain": [
       "<Figure size 432x288 with 2 Axes>"
      ]
     },
     "metadata": {},
     "output_type": "display_data"
    }
   ],
   "source": [
    "#Support vector machine\n",
    "clf_svm = RandomForestClassifier()\n",
    "clf_svm.fit(scaled_train,Y_train)\n",
    "Y_pred = clf_svm.predict(X_test)\n",
    "Acc_clf_svm = accuracy_score(Y_test['Survived'],Y_pred)*100\n",
    "print(Acc_clf_svm)\n",
    "print('*'*40)\n",
    "print(classification_report(Y_test['Survived'],Y_pred))\n",
    "cnf_matrix = metrics.confusion_matrix(Y_test['Survived'],Y_pred)\n",
    "print('cnf_matrix:',cnf_matrix)\n",
    "sns.heatmap(cnf_matrix,annot=True,fmt='d')"
   ]
  },
  {
   "cell_type": "code",
   "execution_count": null,
   "metadata": {},
   "outputs": [],
   "source": []
  },
  {
   "cell_type": "code",
   "execution_count": 31,
   "metadata": {},
   "outputs": [
    {
     "name": "stdout",
     "output_type": "stream",
     "text": [
      "36.36363636363637\n",
      "****************************************\n",
      "              precision    recall  f1-score   support\n",
      "\n",
      "           0       0.00      0.00      0.00       266\n",
      "           1       0.36      1.00      0.53       152\n",
      "\n",
      "   micro avg       0.36      0.36      0.36       418\n",
      "   macro avg       0.18      0.50      0.27       418\n",
      "weighted avg       0.13      0.36      0.19       418\n",
      "\n",
      "cnf_matrix: [[  0 266]\n",
      " [  0 152]]\n"
     ]
    },
    {
     "name": "stderr",
     "output_type": "stream",
     "text": [
      "C:\\Users\\user\\Anaconda3\\lib\\site-packages\\sklearn\\metrics\\classification.py:1143: UndefinedMetricWarning: Precision and F-score are ill-defined and being set to 0.0 in labels with no predicted samples.\n",
      "  'precision', 'predicted', average, warn_for)\n",
      "C:\\Users\\user\\Anaconda3\\lib\\site-packages\\sklearn\\metrics\\classification.py:1143: UndefinedMetricWarning: Precision and F-score are ill-defined and being set to 0.0 in labels with no predicted samples.\n",
      "  'precision', 'predicted', average, warn_for)\n",
      "C:\\Users\\user\\Anaconda3\\lib\\site-packages\\sklearn\\metrics\\classification.py:1143: UndefinedMetricWarning: Precision and F-score are ill-defined and being set to 0.0 in labels with no predicted samples.\n",
      "  'precision', 'predicted', average, warn_for)\n"
     ]
    },
    {
     "data": {
      "text/plain": [
       "<matplotlib.axes._subplots.AxesSubplot at 0x212dcc331d0>"
      ]
     },
     "execution_count": 31,
     "metadata": {},
     "output_type": "execute_result"
    },
    {
     "data": {
      "image/png": "[encoded data removed]",
      "text/plain": [
       "<Figure size 432x288 with 2 Axes>"
      ]
     },
     "metadata": {},
     "output_type": "display_data"
    }
   ],
   "source": [
    "#GaussianNB\n",
    "clf_naive = GaussianNB()\n",
    "clf_naive.fit(scaled_train,Y_train)\n",
    "Y_pred = clf_naive.predict(X_test)\n",
    "Acc_clf_naive = accuracy_score(Y_test['Survived'],Y_pred)*100\n",
    "print(Acc_clf_naive)\n",
    "print('*'*40)\n",
    "print(classification_report(Y_test['Survived'],Y_pred))\n",
    "cnf_matrix = metrics.confusion_matrix(Y_test['Survived'],Y_pred)\n",
    "print('cnf_matrix:',cnf_matrix)\n",
    "sns.heatmap(cnf_matrix,annot=True,fmt='d')"
   ]
  },
  {
   "cell_type": "code",
   "execution_count": null,
   "metadata": {},
   "outputs": [],
   "source": []
  },
  {
   "cell_type": "code",
   "execution_count": 32,
   "metadata": {},
   "outputs": [
    {
     "name": "stdout",
     "output_type": "stream",
     "text": [
      "64.5933014354067\n",
      "****************************************\n",
      "              precision    recall  f1-score   support\n",
      "\n",
      "           0       0.68      0.84      0.75       266\n",
      "           1       0.52      0.30      0.38       152\n",
      "\n",
      "   micro avg       0.65      0.65      0.65       418\n",
      "   macro avg       0.60      0.57      0.57       418\n",
      "weighted avg       0.62      0.65      0.62       418\n",
      "\n",
      "cnf_matrix: [[224  42]\n",
      " [106  46]]\n"
     ]
    },
    {
     "name": "stderr",
     "output_type": "stream",
     "text": [
      "C:\\Users\\user\\Anaconda3\\lib\\site-packages\\sklearn\\linear_model\\stochastic_gradient.py:166: FutureWarning: max_iter and tol parameters have been added in SGDClassifier in 0.19. If both are left unset, they default to max_iter=5 and tol=None. If tol is not None, max_iter defaults to max_iter=1000. From 0.21, default max_iter will be 1000, and default tol will be 1e-3.\n",
      "  FutureWarning)\n"
     ]
    },
    {
     "data": {
      "text/plain": [
       "<matplotlib.axes._subplots.AxesSubplot at 0x212dccd7198>"
      ]
     },
     "execution_count": 32,
     "metadata": {},
     "output_type": "execute_result"
    },
    {
     "data": {
      "image/png": "[encoded data removed]",
      "text/plain": [
       "<Figure size 432x288 with 2 Axes>"
      ]
     },
     "metadata": {},
     "output_type": "display_data"
    }
   ],
   "source": [
    "#SGDClassifier\n",
    "clf_SGD = SGDClassifier()\n",
    "clf_SGD.fit(scaled_train,Y_train)\n",
    "Y_pred = clf_SGD.predict(X_test)\n",
    "Acc_clf_SGD = accuracy_score(Y_test['Survived'],Y_pred)*100\n",
    "print(Acc_clf_SGD)\n",
    "print('*'*40)\n",
    "print(classification_report(Y_test['Survived'],Y_pred))\n",
    "cnf_matrix = metrics.confusion_matrix(Y_test['Survived'],Y_pred)\n",
    "print('cnf_matrix:',cnf_matrix)\n",
    "sns.heatmap(cnf_matrix,annot=True,fmt='d')"
   ]
  },
  {
   "cell_type": "code",
   "execution_count": null,
   "metadata": {},
   "outputs": [],
   "source": []
  },
  {
   "cell_type": "code",
   "execution_count": 33,
   "metadata": {},
   "outputs": [
    {
     "data": {
      "text/html": [
       "<div>\n",
       "<style scoped>\n",
       "    .dataframe tbody tr th:only-of-type {\n",
       "        vertical-align: middle;\n",
       "    }\n",
       "\n",
       "    .dataframe tbody tr th {\n",
       "        vertical-align: top;\n",
       "    }\n",
       "\n",
       "    .dataframe thead th {\n",
       "        text-align: right;\n",
       "    }\n",
       "</style>\n",
       "<table border=\"1\" class=\"dataframe\">\n",
       "  <thead>\n",
       "    <tr style=\"text-align: right;\">\n",
       "      <th></th>\n",
       "      <th>Model</th>\n",
       "      <th>Score</th>\n",
       "    </tr>\n",
       "  </thead>\n",
       "  <tbody>\n",
       "    <tr>\n",
       "      <th>1</th>\n",
       "      <td>clf_tree</td>\n",
       "      <td>87.559809</td>\n",
       "    </tr>\n",
       "    <tr>\n",
       "      <th>0</th>\n",
       "      <td>lo_reg</td>\n",
       "      <td>65.550239</td>\n",
       "    </tr>\n",
       "    <tr>\n",
       "      <th>6</th>\n",
       "      <td>clf_SGD</td>\n",
       "      <td>64.593301</td>\n",
       "    </tr>\n",
       "    <tr>\n",
       "      <th>2</th>\n",
       "      <td>clf_knn</td>\n",
       "      <td>58.851675</td>\n",
       "    </tr>\n",
       "    <tr>\n",
       "      <th>3</th>\n",
       "      <td>clf_naive</td>\n",
       "      <td>36.363636</td>\n",
       "    </tr>\n",
       "    <tr>\n",
       "      <th>4</th>\n",
       "      <td>clf_svm</td>\n",
       "      <td>34.210526</td>\n",
       "    </tr>\n",
       "    <tr>\n",
       "      <th>5</th>\n",
       "      <td>clf_random</td>\n",
       "      <td>19.856459</td>\n",
       "    </tr>\n",
       "  </tbody>\n",
       "</table>\n",
       "</div>"
      ],
      "text/plain": [
       "        Model      Score\n",
       "1    clf_tree  87.559809\n",
       "0      lo_reg  65.550239\n",
       "6     clf_SGD  64.593301\n",
       "2     clf_knn  58.851675\n",
       "3   clf_naive  36.363636\n",
       "4     clf_svm  34.210526\n",
       "5  clf_random  19.856459"
      ]
     },
     "execution_count": 33,
     "metadata": {},
     "output_type": "execute_result"
    }
   ],
   "source": [
    "models = pd.DataFrame({\n",
    "    'Model': ['lo_reg','clf_tree','clf_knn','clf_naive','clf_svm','clf_random','clf_SGD'],\n",
    "    'Score': [Acc_lo_reg,Acc_clf_tree,Acc_clf_knn,Acc_clf_naive,Acc_clf_svm,\n",
    "              Acc_clf_random,Acc_clf_SGD]})\n",
    "models.sort_values(by='Score', ascending=False)"
   ]
  },
  {
   "cell_type": "code",
   "execution_count": null,
   "metadata": {},
   "outputs": [],
   "source": []
  },
  {
   "cell_type": "code",
   "execution_count": 34,
   "metadata": {},
   "outputs": [
    {
     "name": "stdout",
     "output_type": "stream",
     "text": [
      "     PassengerId  Survived\n",
      "0            892         0\n",
      "1            893         0\n",
      "2            894         0\n",
      "3            895         0\n",
      "4            896         0\n",
      "5            897         0\n",
      "6            898         0\n",
      "7            899         0\n",
      "8            900         0\n",
      "9            901         0\n",
      "10           902         0\n",
      "11           903         0\n",
      "12           904         1\n",
      "13           905         0\n",
      "14           906         0\n",
      "15           907         0\n",
      "16           908         0\n",
      "17           909         0\n",
      "18           910         0\n",
      "19           911         0\n",
      "20           912         0\n",
      "21           913         0\n",
      "22           914         0\n",
      "23           915         1\n",
      "24           916         1\n",
      "25           917         0\n",
      "26           918         1\n",
      "27           919         0\n",
      "28           920         0\n",
      "29           921         0\n",
      "..           ...       ...\n",
      "388         1280         0\n",
      "389         1281         1\n",
      "390         1282         1\n",
      "391         1283         0\n",
      "392         1284         0\n",
      "393         1285         0\n",
      "394         1286         0\n",
      "395         1287         1\n",
      "396         1288         0\n",
      "397         1289         1\n",
      "398         1290         0\n",
      "399         1291         0\n",
      "400         1292         1\n",
      "401         1293         0\n",
      "402         1294         1\n",
      "403         1295         1\n",
      "404         1296         0\n",
      "405         1297         0\n",
      "406         1298         0\n",
      "407         1299         1\n",
      "408         1300         0\n",
      "409         1301         1\n",
      "410         1302         0\n",
      "411         1303         1\n",
      "412         1304         0\n",
      "413         1305         0\n",
      "414         1306         1\n",
      "415         1307         0\n",
      "416         1308         0\n",
      "417         1309         0\n",
      "\n",
      "[418 rows x 2 columns]\n"
     ]
    }
   ],
   "source": [
    "submission = pd.DataFrame({\n",
    "        \"PassengerId\": Y_test[\"PassengerId\"],\n",
    "        \"Survived\": Y_pred\n",
    "    })\n",
    "print(submission)"
   ]
  },
  {
   "cell_type": "code",
   "execution_count": null,
   "metadata": {},
   "outputs": [],
   "source": []
  }
 ],
 "metadata": {
  "kernelspec": {
   "display_name": "Python 3",
   "language": "python",
   "name": "python3"
  },
  "language_info": {
   "codemirror_mode": {
    "name": "ipython",
    "version": 3
   },
   "file_extension": ".py",
   "mimetype": "text/x-python",
   "name": "python",
   "nbconvert_exporter": "python",
   "pygments_lexer": "ipython3",
   "version": "3.7.3"
  }
 },
 "nbformat": 4,
 "nbformat_minor": 2
}
